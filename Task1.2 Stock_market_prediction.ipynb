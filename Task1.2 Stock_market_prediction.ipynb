{
 "cells": [
  {
   "cell_type": "code",
   "execution_count": 1,
   "id": "dde1ab75",
   "metadata": {},
   "outputs": [],
   "source": [
    "import pandas as pd\n",
    "import matplotlib.pyplot as plt\n",
    "import numpy as np\n",
    "import seaborn as sns\n"
   ]
  },
  {
   "cell_type": "code",
   "execution_count": 2,
   "id": "1e17c0e6",
   "metadata": {},
   "outputs": [
    {
     "data": {
      "text/html": [
       "<div>\n",
       "<style scoped>\n",
       "    .dataframe tbody tr th:only-of-type {\n",
       "        vertical-align: middle;\n",
       "    }\n",
       "\n",
       "    .dataframe tbody tr th {\n",
       "        vertical-align: top;\n",
       "    }\n",
       "\n",
       "    .dataframe thead th {\n",
       "        text-align: right;\n",
       "    }\n",
       "</style>\n",
       "<table border=\"1\" class=\"dataframe\">\n",
       "  <thead>\n",
       "    <tr style=\"text-align: right;\">\n",
       "      <th></th>\n",
       "      <th>Date</th>\n",
       "      <th>Open</th>\n",
       "      <th>High</th>\n",
       "      <th>Low</th>\n",
       "      <th>Last</th>\n",
       "      <th>Close</th>\n",
       "      <th>Total Trade Quantity</th>\n",
       "      <th>Turnover (Lacs)</th>\n",
       "    </tr>\n",
       "  </thead>\n",
       "  <tbody>\n",
       "    <tr>\n",
       "      <th>0</th>\n",
       "      <td>2018-09-28</td>\n",
       "      <td>234.05</td>\n",
       "      <td>235.95</td>\n",
       "      <td>230.20</td>\n",
       "      <td>233.50</td>\n",
       "      <td>233.75</td>\n",
       "      <td>3069914</td>\n",
       "      <td>7162.35</td>\n",
       "    </tr>\n",
       "    <tr>\n",
       "      <th>1</th>\n",
       "      <td>2018-09-27</td>\n",
       "      <td>234.55</td>\n",
       "      <td>236.80</td>\n",
       "      <td>231.10</td>\n",
       "      <td>233.80</td>\n",
       "      <td>233.25</td>\n",
       "      <td>5082859</td>\n",
       "      <td>11859.95</td>\n",
       "    </tr>\n",
       "    <tr>\n",
       "      <th>2</th>\n",
       "      <td>2018-09-26</td>\n",
       "      <td>240.00</td>\n",
       "      <td>240.00</td>\n",
       "      <td>232.50</td>\n",
       "      <td>235.00</td>\n",
       "      <td>234.25</td>\n",
       "      <td>2240909</td>\n",
       "      <td>5248.60</td>\n",
       "    </tr>\n",
       "    <tr>\n",
       "      <th>3</th>\n",
       "      <td>2018-09-25</td>\n",
       "      <td>233.30</td>\n",
       "      <td>236.75</td>\n",
       "      <td>232.00</td>\n",
       "      <td>236.25</td>\n",
       "      <td>236.10</td>\n",
       "      <td>2349368</td>\n",
       "      <td>5503.90</td>\n",
       "    </tr>\n",
       "    <tr>\n",
       "      <th>4</th>\n",
       "      <td>2018-09-24</td>\n",
       "      <td>233.55</td>\n",
       "      <td>239.20</td>\n",
       "      <td>230.75</td>\n",
       "      <td>234.00</td>\n",
       "      <td>233.30</td>\n",
       "      <td>3423509</td>\n",
       "      <td>7999.55</td>\n",
       "    </tr>\n",
       "  </tbody>\n",
       "</table>\n",
       "</div>"
      ],
      "text/plain": [
       "         Date    Open    High     Low    Last   Close  Total Trade Quantity  \\\n",
       "0  2018-09-28  234.05  235.95  230.20  233.50  233.75               3069914   \n",
       "1  2018-09-27  234.55  236.80  231.10  233.80  233.25               5082859   \n",
       "2  2018-09-26  240.00  240.00  232.50  235.00  234.25               2240909   \n",
       "3  2018-09-25  233.30  236.75  232.00  236.25  236.10               2349368   \n",
       "4  2018-09-24  233.55  239.20  230.75  234.00  233.30               3423509   \n",
       "\n",
       "   Turnover (Lacs)  \n",
       "0          7162.35  \n",
       "1         11859.95  \n",
       "2          5248.60  \n",
       "3          5503.90  \n",
       "4          7999.55  "
      ]
     },
     "execution_count": 2,
     "metadata": {},
     "output_type": "execute_result"
    }
   ],
   "source": [
    "df = pd.read_csv(\"NSE-TATAGLOBAL.csv\")\n",
    "df.head()\n",
    "# df"
   ]
  },
  {
   "cell_type": "code",
   "execution_count": 3,
   "id": "b0c21320",
   "metadata": {},
   "outputs": [
    {
     "data": {
      "text/html": [
       "<div>\n",
       "<style scoped>\n",
       "    .dataframe tbody tr th:only-of-type {\n",
       "        vertical-align: middle;\n",
       "    }\n",
       "\n",
       "    .dataframe tbody tr th {\n",
       "        vertical-align: top;\n",
       "    }\n",
       "\n",
       "    .dataframe thead th {\n",
       "        text-align: right;\n",
       "    }\n",
       "</style>\n",
       "<table border=\"1\" class=\"dataframe\">\n",
       "  <thead>\n",
       "    <tr style=\"text-align: right;\">\n",
       "      <th></th>\n",
       "      <th>Open</th>\n",
       "      <th>High</th>\n",
       "      <th>Low</th>\n",
       "      <th>Last</th>\n",
       "      <th>Close</th>\n",
       "      <th>Total Trade Quantity</th>\n",
       "      <th>Turnover (Lacs)</th>\n",
       "    </tr>\n",
       "  </thead>\n",
       "  <tbody>\n",
       "    <tr>\n",
       "      <th>count</th>\n",
       "      <td>2035.000000</td>\n",
       "      <td>2035.000000</td>\n",
       "      <td>2035.000000</td>\n",
       "      <td>2035.000000</td>\n",
       "      <td>2035.00000</td>\n",
       "      <td>2.035000e+03</td>\n",
       "      <td>2035.000000</td>\n",
       "    </tr>\n",
       "    <tr>\n",
       "      <th>mean</th>\n",
       "      <td>149.713735</td>\n",
       "      <td>151.992826</td>\n",
       "      <td>147.293931</td>\n",
       "      <td>149.474251</td>\n",
       "      <td>149.45027</td>\n",
       "      <td>2.335681e+06</td>\n",
       "      <td>3899.980565</td>\n",
       "    </tr>\n",
       "    <tr>\n",
       "      <th>std</th>\n",
       "      <td>48.664509</td>\n",
       "      <td>49.413109</td>\n",
       "      <td>47.931958</td>\n",
       "      <td>48.732570</td>\n",
       "      <td>48.71204</td>\n",
       "      <td>2.091778e+06</td>\n",
       "      <td>4570.767877</td>\n",
       "    </tr>\n",
       "    <tr>\n",
       "      <th>min</th>\n",
       "      <td>81.100000</td>\n",
       "      <td>82.800000</td>\n",
       "      <td>80.000000</td>\n",
       "      <td>81.000000</td>\n",
       "      <td>80.95000</td>\n",
       "      <td>3.961000e+04</td>\n",
       "      <td>37.040000</td>\n",
       "    </tr>\n",
       "    <tr>\n",
       "      <th>25%</th>\n",
       "      <td>120.025000</td>\n",
       "      <td>122.100000</td>\n",
       "      <td>118.300000</td>\n",
       "      <td>120.075000</td>\n",
       "      <td>120.05000</td>\n",
       "      <td>1.146444e+06</td>\n",
       "      <td>1427.460000</td>\n",
       "    </tr>\n",
       "    <tr>\n",
       "      <th>50%</th>\n",
       "      <td>141.500000</td>\n",
       "      <td>143.400000</td>\n",
       "      <td>139.600000</td>\n",
       "      <td>141.100000</td>\n",
       "      <td>141.25000</td>\n",
       "      <td>1.783456e+06</td>\n",
       "      <td>2512.030000</td>\n",
       "    </tr>\n",
       "    <tr>\n",
       "      <th>75%</th>\n",
       "      <td>157.175000</td>\n",
       "      <td>159.400000</td>\n",
       "      <td>155.150000</td>\n",
       "      <td>156.925000</td>\n",
       "      <td>156.90000</td>\n",
       "      <td>2.813594e+06</td>\n",
       "      <td>4539.015000</td>\n",
       "    </tr>\n",
       "    <tr>\n",
       "      <th>max</th>\n",
       "      <td>327.700000</td>\n",
       "      <td>328.750000</td>\n",
       "      <td>321.650000</td>\n",
       "      <td>325.950000</td>\n",
       "      <td>325.75000</td>\n",
       "      <td>2.919102e+07</td>\n",
       "      <td>55755.080000</td>\n",
       "    </tr>\n",
       "  </tbody>\n",
       "</table>\n",
       "</div>"
      ],
      "text/plain": [
       "              Open         High          Low         Last       Close  \\\n",
       "count  2035.000000  2035.000000  2035.000000  2035.000000  2035.00000   \n",
       "mean    149.713735   151.992826   147.293931   149.474251   149.45027   \n",
       "std      48.664509    49.413109    47.931958    48.732570    48.71204   \n",
       "min      81.100000    82.800000    80.000000    81.000000    80.95000   \n",
       "25%     120.025000   122.100000   118.300000   120.075000   120.05000   \n",
       "50%     141.500000   143.400000   139.600000   141.100000   141.25000   \n",
       "75%     157.175000   159.400000   155.150000   156.925000   156.90000   \n",
       "max     327.700000   328.750000   321.650000   325.950000   325.75000   \n",
       "\n",
       "       Total Trade Quantity  Turnover (Lacs)  \n",
       "count          2.035000e+03      2035.000000  \n",
       "mean           2.335681e+06      3899.980565  \n",
       "std            2.091778e+06      4570.767877  \n",
       "min            3.961000e+04        37.040000  \n",
       "25%            1.146444e+06      1427.460000  \n",
       "50%            1.783456e+06      2512.030000  \n",
       "75%            2.813594e+06      4539.015000  \n",
       "max            2.919102e+07     55755.080000  "
      ]
     },
     "execution_count": 3,
     "metadata": {},
     "output_type": "execute_result"
    }
   ],
   "source": [
    "df.describe()"
   ]
  },
  {
   "cell_type": "code",
   "execution_count": 4,
   "id": "497a4315",
   "metadata": {},
   "outputs": [
    {
     "data": {
      "text/plain": [
       "Date                    2035\n",
       "Open                    2035\n",
       "High                    2035\n",
       "Low                     2035\n",
       "Last                    2035\n",
       "Close                   2035\n",
       "Total Trade Quantity    2035\n",
       "Turnover (Lacs)         2035\n",
       "dtype: int64"
      ]
     },
     "execution_count": 4,
     "metadata": {},
     "output_type": "execute_result"
    }
   ],
   "source": [
    "df.count()"
   ]
  },
  {
   "cell_type": "code",
   "execution_count": 5,
   "id": "73931daa",
   "metadata": {},
   "outputs": [
    {
     "data": {
      "text/plain": [
       "Index(['Date', 'Open', 'High', 'Low', 'Last', 'Close', 'Total Trade Quantity',\n",
       "       'Turnover (Lacs)'],\n",
       "      dtype='object')"
      ]
     },
     "execution_count": 5,
     "metadata": {},
     "output_type": "execute_result"
    }
   ],
   "source": [
    "df.columns"
   ]
  },
  {
   "cell_type": "code",
   "execution_count": 6,
   "id": "fd7b9d35",
   "metadata": {},
   "outputs": [
    {
     "name": "stdout",
     "output_type": "stream",
     "text": [
      "<class 'pandas.core.frame.DataFrame'>\n",
      "RangeIndex: 2035 entries, 0 to 2034\n",
      "Data columns (total 8 columns):\n",
      " #   Column                Non-Null Count  Dtype  \n",
      "---  ------                --------------  -----  \n",
      " 0   Date                  2035 non-null   object \n",
      " 1   Open                  2035 non-null   float64\n",
      " 2   High                  2035 non-null   float64\n",
      " 3   Low                   2035 non-null   float64\n",
      " 4   Last                  2035 non-null   float64\n",
      " 5   Close                 2035 non-null   float64\n",
      " 6   Total Trade Quantity  2035 non-null   int64  \n",
      " 7   Turnover (Lacs)       2035 non-null   float64\n",
      "dtypes: float64(6), int64(1), object(1)\n",
      "memory usage: 127.3+ KB\n"
     ]
    }
   ],
   "source": [
    "df.info()"
   ]
  },
  {
   "cell_type": "code",
   "execution_count": 7,
   "id": "baae20be",
   "metadata": {},
   "outputs": [
    {
     "data": {
      "text/plain": [
       "<AxesSubplot:>"
      ]
     },
     "execution_count": 7,
     "metadata": {},
     "output_type": "execute_result"
    },
    {
     "data": {
      "image/png": "[encoded data removed]",
      "text/plain": [
       "<Figure size 432x288 with 1 Axes>"
      ]
     },
     "metadata": {
      "needs_background": "light"
     },
     "output_type": "display_data"
    }
   ],
   "source": [
    "df. Close.hist()"
   ]
  },
  {
   "cell_type": "markdown",
   "id": "174f2090",
   "metadata": {},
   "source": [
    "### Parsing dates"
   ]
  },
  {
   "cell_type": "code",
   "execution_count": 8,
   "id": "20f64614",
   "metadata": {},
   "outputs": [
    {
     "data": {
      "text/html": [
       "<div>\n",
       "<style scoped>\n",
       "    .dataframe tbody tr th:only-of-type {\n",
       "        vertical-align: middle;\n",
       "    }\n",
       "\n",
       "    .dataframe tbody tr th {\n",
       "        vertical-align: top;\n",
       "    }\n",
       "\n",
       "    .dataframe thead th {\n",
       "        text-align: right;\n",
       "    }\n",
       "</style>\n",
       "<table border=\"1\" class=\"dataframe\">\n",
       "  <thead>\n",
       "    <tr style=\"text-align: right;\">\n",
       "      <th></th>\n",
       "      <th>Date</th>\n",
       "      <th>Open</th>\n",
       "      <th>High</th>\n",
       "      <th>Low</th>\n",
       "      <th>Last</th>\n",
       "      <th>Close</th>\n",
       "      <th>Total Trade Quantity</th>\n",
       "      <th>Turnover (Lacs)</th>\n",
       "    </tr>\n",
       "  </thead>\n",
       "  <tbody>\n",
       "    <tr>\n",
       "      <th>0</th>\n",
       "      <td>2018-09-28</td>\n",
       "      <td>234.05</td>\n",
       "      <td>235.95</td>\n",
       "      <td>230.20</td>\n",
       "      <td>233.50</td>\n",
       "      <td>233.75</td>\n",
       "      <td>3069914</td>\n",
       "      <td>7162.35</td>\n",
       "    </tr>\n",
       "    <tr>\n",
       "      <th>1</th>\n",
       "      <td>2018-09-27</td>\n",
       "      <td>234.55</td>\n",
       "      <td>236.80</td>\n",
       "      <td>231.10</td>\n",
       "      <td>233.80</td>\n",
       "      <td>233.25</td>\n",
       "      <td>5082859</td>\n",
       "      <td>11859.95</td>\n",
       "    </tr>\n",
       "    <tr>\n",
       "      <th>2</th>\n",
       "      <td>2018-09-26</td>\n",
       "      <td>240.00</td>\n",
       "      <td>240.00</td>\n",
       "      <td>232.50</td>\n",
       "      <td>235.00</td>\n",
       "      <td>234.25</td>\n",
       "      <td>2240909</td>\n",
       "      <td>5248.60</td>\n",
       "    </tr>\n",
       "    <tr>\n",
       "      <th>3</th>\n",
       "      <td>2018-09-25</td>\n",
       "      <td>233.30</td>\n",
       "      <td>236.75</td>\n",
       "      <td>232.00</td>\n",
       "      <td>236.25</td>\n",
       "      <td>236.10</td>\n",
       "      <td>2349368</td>\n",
       "      <td>5503.90</td>\n",
       "    </tr>\n",
       "    <tr>\n",
       "      <th>4</th>\n",
       "      <td>2018-09-24</td>\n",
       "      <td>233.55</td>\n",
       "      <td>239.20</td>\n",
       "      <td>230.75</td>\n",
       "      <td>234.00</td>\n",
       "      <td>233.30</td>\n",
       "      <td>3423509</td>\n",
       "      <td>7999.55</td>\n",
       "    </tr>\n",
       "    <tr>\n",
       "      <th>...</th>\n",
       "      <td>...</td>\n",
       "      <td>...</td>\n",
       "      <td>...</td>\n",
       "      <td>...</td>\n",
       "      <td>...</td>\n",
       "      <td>...</td>\n",
       "      <td>...</td>\n",
       "      <td>...</td>\n",
       "    </tr>\n",
       "    <tr>\n",
       "      <th>2030</th>\n",
       "      <td>2010-07-27</td>\n",
       "      <td>117.60</td>\n",
       "      <td>119.50</td>\n",
       "      <td>112.00</td>\n",
       "      <td>118.80</td>\n",
       "      <td>118.65</td>\n",
       "      <td>586100</td>\n",
       "      <td>694.98</td>\n",
       "    </tr>\n",
       "    <tr>\n",
       "      <th>2031</th>\n",
       "      <td>2010-07-26</td>\n",
       "      <td>120.10</td>\n",
       "      <td>121.00</td>\n",
       "      <td>117.10</td>\n",
       "      <td>117.10</td>\n",
       "      <td>117.60</td>\n",
       "      <td>658440</td>\n",
       "      <td>780.01</td>\n",
       "    </tr>\n",
       "    <tr>\n",
       "      <th>2032</th>\n",
       "      <td>2010-07-23</td>\n",
       "      <td>121.80</td>\n",
       "      <td>121.95</td>\n",
       "      <td>120.25</td>\n",
       "      <td>120.35</td>\n",
       "      <td>120.65</td>\n",
       "      <td>281312</td>\n",
       "      <td>340.31</td>\n",
       "    </tr>\n",
       "    <tr>\n",
       "      <th>2033</th>\n",
       "      <td>2010-07-22</td>\n",
       "      <td>120.30</td>\n",
       "      <td>122.00</td>\n",
       "      <td>120.25</td>\n",
       "      <td>120.75</td>\n",
       "      <td>120.90</td>\n",
       "      <td>293312</td>\n",
       "      <td>355.17</td>\n",
       "    </tr>\n",
       "    <tr>\n",
       "      <th>2034</th>\n",
       "      <td>2010-07-21</td>\n",
       "      <td>122.10</td>\n",
       "      <td>123.00</td>\n",
       "      <td>121.05</td>\n",
       "      <td>121.10</td>\n",
       "      <td>121.55</td>\n",
       "      <td>658666</td>\n",
       "      <td>803.56</td>\n",
       "    </tr>\n",
       "  </tbody>\n",
       "</table>\n",
       "<p>2035 rows × 8 columns</p>\n",
       "</div>"
      ],
      "text/plain": [
       "           Date    Open    High     Low    Last   Close  Total Trade Quantity  \\\n",
       "0    2018-09-28  234.05  235.95  230.20  233.50  233.75               3069914   \n",
       "1    2018-09-27  234.55  236.80  231.10  233.80  233.25               5082859   \n",
       "2    2018-09-26  240.00  240.00  232.50  235.00  234.25               2240909   \n",
       "3    2018-09-25  233.30  236.75  232.00  236.25  236.10               2349368   \n",
       "4    2018-09-24  233.55  239.20  230.75  234.00  233.30               3423509   \n",
       "...         ...     ...     ...     ...     ...     ...                   ...   \n",
       "2030 2010-07-27  117.60  119.50  112.00  118.80  118.65                586100   \n",
       "2031 2010-07-26  120.10  121.00  117.10  117.10  117.60                658440   \n",
       "2032 2010-07-23  121.80  121.95  120.25  120.35  120.65                281312   \n",
       "2033 2010-07-22  120.30  122.00  120.25  120.75  120.90                293312   \n",
       "2034 2010-07-21  122.10  123.00  121.05  121.10  121.55                658666   \n",
       "\n",
       "      Turnover (Lacs)  \n",
       "0             7162.35  \n",
       "1            11859.95  \n",
       "2             5248.60  \n",
       "3             5503.90  \n",
       "4             7999.55  \n",
       "...               ...  \n",
       "2030           694.98  \n",
       "2031           780.01  \n",
       "2032           340.31  \n",
       "2033           355.17  \n",
       "2034           803.56  \n",
       "\n",
       "[2035 rows x 8 columns]"
      ]
     },
     "execution_count": 8,
     "metadata": {},
     "output_type": "execute_result"
    }
   ],
   "source": [
    "df = pd.read_csv(\"NSE-TATAGLOBAL.csv\" , parse_dates = ['Date'])\n",
    "df"
   ]
  },
  {
   "cell_type": "code",
   "execution_count": 9,
   "id": "dfc22e43",
   "metadata": {},
   "outputs": [
    {
     "data": {
      "text/plain": [
       "dtype('<M8[ns]')"
      ]
     },
     "execution_count": 9,
     "metadata": {},
     "output_type": "execute_result"
    }
   ],
   "source": [
    "df.Date.dtype"
   ]
  },
  {
   "cell_type": "markdown",
   "id": "deb5b5ba",
   "metadata": {},
   "source": [
    "## 2. Data cleaning"
   ]
  },
  {
   "cell_type": "code",
   "execution_count": 10,
   "id": "e6a7e3f2",
   "metadata": {},
   "outputs": [
    {
     "data": {
      "text/plain": [
       "Date                    0\n",
       "Open                    0\n",
       "High                    0\n",
       "Low                     0\n",
       "Last                    0\n",
       "Close                   0\n",
       "Total Trade Quantity    0\n",
       "Turnover (Lacs)         0\n",
       "dtype: int64"
      ]
     },
     "execution_count": 10,
     "metadata": {},
     "output_type": "execute_result"
    }
   ],
   "source": [
    "df.isnull().sum()"
   ]
  },
  {
   "cell_type": "code",
   "execution_count": 11,
   "id": "63887912",
   "metadata": {},
   "outputs": [
    {
     "data": {
      "text/html": [
       "<div>\n",
       "<style scoped>\n",
       "    .dataframe tbody tr th:only-of-type {\n",
       "        vertical-align: middle;\n",
       "    }\n",
       "\n",
       "    .dataframe tbody tr th {\n",
       "        vertical-align: top;\n",
       "    }\n",
       "\n",
       "    .dataframe thead th {\n",
       "        text-align: right;\n",
       "    }\n",
       "</style>\n",
       "<table border=\"1\" class=\"dataframe\">\n",
       "  <thead>\n",
       "    <tr style=\"text-align: right;\">\n",
       "      <th></th>\n",
       "      <th>Date</th>\n",
       "      <th>Open</th>\n",
       "      <th>High</th>\n",
       "      <th>Low</th>\n",
       "      <th>Last</th>\n",
       "      <th>Close</th>\n",
       "      <th>Total Trade Quantity</th>\n",
       "      <th>Turnover (Lacs)</th>\n",
       "    </tr>\n",
       "  </thead>\n",
       "  <tbody>\n",
       "    <tr>\n",
       "      <th>0</th>\n",
       "      <td>2018-09-28</td>\n",
       "      <td>234.05</td>\n",
       "      <td>235.95</td>\n",
       "      <td>230.20</td>\n",
       "      <td>233.50</td>\n",
       "      <td>233.75</td>\n",
       "      <td>3069914</td>\n",
       "      <td>7162.35</td>\n",
       "    </tr>\n",
       "    <tr>\n",
       "      <th>1</th>\n",
       "      <td>2018-09-27</td>\n",
       "      <td>234.55</td>\n",
       "      <td>236.80</td>\n",
       "      <td>231.10</td>\n",
       "      <td>233.80</td>\n",
       "      <td>233.25</td>\n",
       "      <td>5082859</td>\n",
       "      <td>11859.95</td>\n",
       "    </tr>\n",
       "    <tr>\n",
       "      <th>2</th>\n",
       "      <td>2018-09-26</td>\n",
       "      <td>240.00</td>\n",
       "      <td>240.00</td>\n",
       "      <td>232.50</td>\n",
       "      <td>235.00</td>\n",
       "      <td>234.25</td>\n",
       "      <td>2240909</td>\n",
       "      <td>5248.60</td>\n",
       "    </tr>\n",
       "    <tr>\n",
       "      <th>3</th>\n",
       "      <td>2018-09-25</td>\n",
       "      <td>233.30</td>\n",
       "      <td>236.75</td>\n",
       "      <td>232.00</td>\n",
       "      <td>236.25</td>\n",
       "      <td>236.10</td>\n",
       "      <td>2349368</td>\n",
       "      <td>5503.90</td>\n",
       "    </tr>\n",
       "    <tr>\n",
       "      <th>4</th>\n",
       "      <td>2018-09-24</td>\n",
       "      <td>233.55</td>\n",
       "      <td>239.20</td>\n",
       "      <td>230.75</td>\n",
       "      <td>234.00</td>\n",
       "      <td>233.30</td>\n",
       "      <td>3423509</td>\n",
       "      <td>7999.55</td>\n",
       "    </tr>\n",
       "  </tbody>\n",
       "</table>\n",
       "</div>"
      ],
      "text/plain": [
       "         Date    Open    High     Low    Last   Close  Total Trade Quantity  \\\n",
       "0  2018-09-28  234.05  235.95  230.20  233.50  233.75               3069914   \n",
       "1  2018-09-27  234.55  236.80  231.10  233.80  233.25               5082859   \n",
       "2  2018-09-26  240.00  240.00  232.50  235.00  234.25               2240909   \n",
       "3  2018-09-25  233.30  236.75  232.00  236.25  236.10               2349368   \n",
       "4  2018-09-24  233.55  239.20  230.75  234.00  233.30               3423509   \n",
       "\n",
       "   Turnover (Lacs)  \n",
       "0          7162.35  \n",
       "1         11859.95  \n",
       "2          5248.60  \n",
       "3          5503.90  \n",
       "4          7999.55  "
      ]
     },
     "execution_count": 11,
     "metadata": {},
     "output_type": "execute_result"
    }
   ],
   "source": [
    "df = pd.read_csv(\"NSE-TATAGLOBAL.csv\")\n",
    "df.head()"
   ]
  },
  {
   "cell_type": "code",
   "execution_count": 12,
   "id": "1bb1bf6a",
   "metadata": {},
   "outputs": [
    {
     "data": {
      "text/html": [
       "<div>\n",
       "<style scoped>\n",
       "    .dataframe tbody tr th:only-of-type {\n",
       "        vertical-align: middle;\n",
       "    }\n",
       "\n",
       "    .dataframe tbody tr th {\n",
       "        vertical-align: top;\n",
       "    }\n",
       "\n",
       "    .dataframe thead th {\n",
       "        text-align: right;\n",
       "    }\n",
       "</style>\n",
       "<table border=\"1\" class=\"dataframe\">\n",
       "  <thead>\n",
       "    <tr style=\"text-align: right;\">\n",
       "      <th></th>\n",
       "      <th>Date</th>\n",
       "      <th>Open</th>\n",
       "      <th>High</th>\n",
       "      <th>Low</th>\n",
       "      <th>Last</th>\n",
       "      <th>Close</th>\n",
       "      <th>Total Trade Quantity</th>\n",
       "      <th>Turnover (Lacs)</th>\n",
       "    </tr>\n",
       "  </thead>\n",
       "  <tbody>\n",
       "    <tr>\n",
       "      <th>2030</th>\n",
       "      <td>2010-07-27</td>\n",
       "      <td>117.6</td>\n",
       "      <td>119.50</td>\n",
       "      <td>112.00</td>\n",
       "      <td>118.80</td>\n",
       "      <td>118.65</td>\n",
       "      <td>586100</td>\n",
       "      <td>694.98</td>\n",
       "    </tr>\n",
       "    <tr>\n",
       "      <th>2031</th>\n",
       "      <td>2010-07-26</td>\n",
       "      <td>120.1</td>\n",
       "      <td>121.00</td>\n",
       "      <td>117.10</td>\n",
       "      <td>117.10</td>\n",
       "      <td>117.60</td>\n",
       "      <td>658440</td>\n",
       "      <td>780.01</td>\n",
       "    </tr>\n",
       "    <tr>\n",
       "      <th>2032</th>\n",
       "      <td>2010-07-23</td>\n",
       "      <td>121.8</td>\n",
       "      <td>121.95</td>\n",
       "      <td>120.25</td>\n",
       "      <td>120.35</td>\n",
       "      <td>120.65</td>\n",
       "      <td>281312</td>\n",
       "      <td>340.31</td>\n",
       "    </tr>\n",
       "    <tr>\n",
       "      <th>2033</th>\n",
       "      <td>2010-07-22</td>\n",
       "      <td>120.3</td>\n",
       "      <td>122.00</td>\n",
       "      <td>120.25</td>\n",
       "      <td>120.75</td>\n",
       "      <td>120.90</td>\n",
       "      <td>293312</td>\n",
       "      <td>355.17</td>\n",
       "    </tr>\n",
       "    <tr>\n",
       "      <th>2034</th>\n",
       "      <td>2010-07-21</td>\n",
       "      <td>122.1</td>\n",
       "      <td>123.00</td>\n",
       "      <td>121.05</td>\n",
       "      <td>121.10</td>\n",
       "      <td>121.55</td>\n",
       "      <td>658666</td>\n",
       "      <td>803.56</td>\n",
       "    </tr>\n",
       "  </tbody>\n",
       "</table>\n",
       "</div>"
      ],
      "text/plain": [
       "            Date   Open    High     Low    Last   Close  Total Trade Quantity  \\\n",
       "2030  2010-07-27  117.6  119.50  112.00  118.80  118.65                586100   \n",
       "2031  2010-07-26  120.1  121.00  117.10  117.10  117.60                658440   \n",
       "2032  2010-07-23  121.8  121.95  120.25  120.35  120.65                281312   \n",
       "2033  2010-07-22  120.3  122.00  120.25  120.75  120.90                293312   \n",
       "2034  2010-07-21  122.1  123.00  121.05  121.10  121.55                658666   \n",
       "\n",
       "      Turnover (Lacs)  \n",
       "2030           694.98  \n",
       "2031           780.01  \n",
       "2032           340.31  \n",
       "2033           355.17  \n",
       "2034           803.56  "
      ]
     },
     "execution_count": 12,
     "metadata": {},
     "output_type": "execute_result"
    }
   ],
   "source": [
    "df = pd.read_csv(\"NSE-TATAGLOBAL.csv\")\n",
    "df.tail()"
   ]
  },
  {
   "cell_type": "code",
   "execution_count": 13,
   "id": "aa5caff3",
   "metadata": {},
   "outputs": [
    {
     "data": {
      "text/plain": [
       "2034    2010-07-21\n",
       "2033    2010-07-22\n",
       "2032    2010-07-23\n",
       "2031    2010-07-26\n",
       "2030    2010-07-27\n",
       "Name: Date, dtype: object"
      ]
     },
     "execution_count": 13,
     "metadata": {},
     "output_type": "execute_result"
    }
   ],
   "source": [
    "# sort dataset in date order \n",
    "df.sort_values(by = [\"Date\"] ,  inplace = True , ascending = True )\n",
    "df.Date.head()"
   ]
  },
  {
   "cell_type": "code",
   "execution_count": 14,
   "id": "465fbc90",
   "metadata": {
    "scrolled": true
   },
   "outputs": [
    {
     "data": {
      "text/plain": [
       "<matplotlib.collections.PathCollection at 0x1771b03ace0>"
      ]
     },
     "execution_count": 14,
     "metadata": {},
     "output_type": "execute_result"
    },
    {
     "data": {
      "image/png": "[encoded data removed]",
      "text/plain": [
       "<Figure size 432x288 with 1 Axes>"
      ]
     },
     "metadata": {
      "needs_background": "light"
     },
     "output_type": "display_data"
    }
   ],
   "source": [
    "fig , ax = plt.subplots()\n",
    "ax.scatter(df.Date , df.Close)\n"
   ]
  },
  {
   "cell_type": "code",
   "execution_count": 15,
   "id": "6e6afe82",
   "metadata": {},
   "outputs": [
    {
     "data": {
      "text/html": [
       "<div>\n",
       "<style scoped>\n",
       "    .dataframe tbody tr th:only-of-type {\n",
       "        vertical-align: middle;\n",
       "    }\n",
       "\n",
       "    .dataframe tbody tr th {\n",
       "        vertical-align: top;\n",
       "    }\n",
       "\n",
       "    .dataframe thead th {\n",
       "        text-align: right;\n",
       "    }\n",
       "</style>\n",
       "<table border=\"1\" class=\"dataframe\">\n",
       "  <thead>\n",
       "    <tr style=\"text-align: right;\">\n",
       "      <th></th>\n",
       "      <th>Date</th>\n",
       "      <th>Open</th>\n",
       "      <th>High</th>\n",
       "      <th>Low</th>\n",
       "      <th>Last</th>\n",
       "      <th>Close</th>\n",
       "      <th>Total Trade Quantity</th>\n",
       "      <th>Turnover (Lacs)</th>\n",
       "    </tr>\n",
       "  </thead>\n",
       "  <tbody>\n",
       "    <tr>\n",
       "      <th>2034</th>\n",
       "      <td>2010-07-21</td>\n",
       "      <td>122.10</td>\n",
       "      <td>123.00</td>\n",
       "      <td>121.05</td>\n",
       "      <td>121.10</td>\n",
       "      <td>121.55</td>\n",
       "      <td>658666</td>\n",
       "      <td>803.56</td>\n",
       "    </tr>\n",
       "    <tr>\n",
       "      <th>2033</th>\n",
       "      <td>2010-07-22</td>\n",
       "      <td>120.30</td>\n",
       "      <td>122.00</td>\n",
       "      <td>120.25</td>\n",
       "      <td>120.75</td>\n",
       "      <td>120.90</td>\n",
       "      <td>293312</td>\n",
       "      <td>355.17</td>\n",
       "    </tr>\n",
       "    <tr>\n",
       "      <th>2032</th>\n",
       "      <td>2010-07-23</td>\n",
       "      <td>121.80</td>\n",
       "      <td>121.95</td>\n",
       "      <td>120.25</td>\n",
       "      <td>120.35</td>\n",
       "      <td>120.65</td>\n",
       "      <td>281312</td>\n",
       "      <td>340.31</td>\n",
       "    </tr>\n",
       "    <tr>\n",
       "      <th>2031</th>\n",
       "      <td>2010-07-26</td>\n",
       "      <td>120.10</td>\n",
       "      <td>121.00</td>\n",
       "      <td>117.10</td>\n",
       "      <td>117.10</td>\n",
       "      <td>117.60</td>\n",
       "      <td>658440</td>\n",
       "      <td>780.01</td>\n",
       "    </tr>\n",
       "    <tr>\n",
       "      <th>2030</th>\n",
       "      <td>2010-07-27</td>\n",
       "      <td>117.60</td>\n",
       "      <td>119.50</td>\n",
       "      <td>112.00</td>\n",
       "      <td>118.80</td>\n",
       "      <td>118.65</td>\n",
       "      <td>586100</td>\n",
       "      <td>694.98</td>\n",
       "    </tr>\n",
       "    <tr>\n",
       "      <th>...</th>\n",
       "      <td>...</td>\n",
       "      <td>...</td>\n",
       "      <td>...</td>\n",
       "      <td>...</td>\n",
       "      <td>...</td>\n",
       "      <td>...</td>\n",
       "      <td>...</td>\n",
       "      <td>...</td>\n",
       "    </tr>\n",
       "    <tr>\n",
       "      <th>4</th>\n",
       "      <td>2018-09-24</td>\n",
       "      <td>233.55</td>\n",
       "      <td>239.20</td>\n",
       "      <td>230.75</td>\n",
       "      <td>234.00</td>\n",
       "      <td>233.30</td>\n",
       "      <td>3423509</td>\n",
       "      <td>7999.55</td>\n",
       "    </tr>\n",
       "    <tr>\n",
       "      <th>3</th>\n",
       "      <td>2018-09-25</td>\n",
       "      <td>233.30</td>\n",
       "      <td>236.75</td>\n",
       "      <td>232.00</td>\n",
       "      <td>236.25</td>\n",
       "      <td>236.10</td>\n",
       "      <td>2349368</td>\n",
       "      <td>5503.90</td>\n",
       "    </tr>\n",
       "    <tr>\n",
       "      <th>2</th>\n",
       "      <td>2018-09-26</td>\n",
       "      <td>240.00</td>\n",
       "      <td>240.00</td>\n",
       "      <td>232.50</td>\n",
       "      <td>235.00</td>\n",
       "      <td>234.25</td>\n",
       "      <td>2240909</td>\n",
       "      <td>5248.60</td>\n",
       "    </tr>\n",
       "    <tr>\n",
       "      <th>1</th>\n",
       "      <td>2018-09-27</td>\n",
       "      <td>234.55</td>\n",
       "      <td>236.80</td>\n",
       "      <td>231.10</td>\n",
       "      <td>233.80</td>\n",
       "      <td>233.25</td>\n",
       "      <td>5082859</td>\n",
       "      <td>11859.95</td>\n",
       "    </tr>\n",
       "    <tr>\n",
       "      <th>0</th>\n",
       "      <td>2018-09-28</td>\n",
       "      <td>234.05</td>\n",
       "      <td>235.95</td>\n",
       "      <td>230.20</td>\n",
       "      <td>233.50</td>\n",
       "      <td>233.75</td>\n",
       "      <td>3069914</td>\n",
       "      <td>7162.35</td>\n",
       "    </tr>\n",
       "  </tbody>\n",
       "</table>\n",
       "<p>2035 rows × 8 columns</p>\n",
       "</div>"
      ],
      "text/plain": [
       "            Date    Open    High     Low    Last   Close  \\\n",
       "2034  2010-07-21  122.10  123.00  121.05  121.10  121.55   \n",
       "2033  2010-07-22  120.30  122.00  120.25  120.75  120.90   \n",
       "2032  2010-07-23  121.80  121.95  120.25  120.35  120.65   \n",
       "2031  2010-07-26  120.10  121.00  117.10  117.10  117.60   \n",
       "2030  2010-07-27  117.60  119.50  112.00  118.80  118.65   \n",
       "...          ...     ...     ...     ...     ...     ...   \n",
       "4     2018-09-24  233.55  239.20  230.75  234.00  233.30   \n",
       "3     2018-09-25  233.30  236.75  232.00  236.25  236.10   \n",
       "2     2018-09-26  240.00  240.00  232.50  235.00  234.25   \n",
       "1     2018-09-27  234.55  236.80  231.10  233.80  233.25   \n",
       "0     2018-09-28  234.05  235.95  230.20  233.50  233.75   \n",
       "\n",
       "      Total Trade Quantity  Turnover (Lacs)  \n",
       "2034                658666           803.56  \n",
       "2033                293312           355.17  \n",
       "2032                281312           340.31  \n",
       "2031                658440           780.01  \n",
       "2030                586100           694.98  \n",
       "...                    ...              ...  \n",
       "4                  3423509          7999.55  \n",
       "3                  2349368          5503.90  \n",
       "2                  2240909          5248.60  \n",
       "1                  5082859         11859.95  \n",
       "0                  3069914          7162.35  \n",
       "\n",
       "[2035 rows x 8 columns]"
      ]
     },
     "execution_count": 15,
     "metadata": {},
     "output_type": "execute_result"
    }
   ],
   "source": [
    "df"
   ]
  },
  {
   "cell_type": "markdown",
   "id": "b53bb2e2",
   "metadata": {},
   "source": [
    "#### Make the copy of the original dataframe"
   ]
  },
  {
   "cell_type": "code",
   "execution_count": 16,
   "id": "2b7d5763",
   "metadata": {},
   "outputs": [
    {
     "data": {
      "text/html": [
       "<div>\n",
       "<style scoped>\n",
       "    .dataframe tbody tr th:only-of-type {\n",
       "        vertical-align: middle;\n",
       "    }\n",
       "\n",
       "    .dataframe tbody tr th {\n",
       "        vertical-align: top;\n",
       "    }\n",
       "\n",
       "    .dataframe thead th {\n",
       "        text-align: right;\n",
       "    }\n",
       "</style>\n",
       "<table border=\"1\" class=\"dataframe\">\n",
       "  <thead>\n",
       "    <tr style=\"text-align: right;\">\n",
       "      <th></th>\n",
       "      <th>Date</th>\n",
       "      <th>Open</th>\n",
       "      <th>High</th>\n",
       "      <th>Low</th>\n",
       "      <th>Last</th>\n",
       "      <th>Close</th>\n",
       "      <th>Total Trade Quantity</th>\n",
       "      <th>Turnover (Lacs)</th>\n",
       "    </tr>\n",
       "  </thead>\n",
       "  <tbody>\n",
       "    <tr>\n",
       "      <th>2034</th>\n",
       "      <td>2010-07-21</td>\n",
       "      <td>122.10</td>\n",
       "      <td>123.00</td>\n",
       "      <td>121.05</td>\n",
       "      <td>121.10</td>\n",
       "      <td>121.55</td>\n",
       "      <td>658666</td>\n",
       "      <td>803.56</td>\n",
       "    </tr>\n",
       "    <tr>\n",
       "      <th>2033</th>\n",
       "      <td>2010-07-22</td>\n",
       "      <td>120.30</td>\n",
       "      <td>122.00</td>\n",
       "      <td>120.25</td>\n",
       "      <td>120.75</td>\n",
       "      <td>120.90</td>\n",
       "      <td>293312</td>\n",
       "      <td>355.17</td>\n",
       "    </tr>\n",
       "    <tr>\n",
       "      <th>2032</th>\n",
       "      <td>2010-07-23</td>\n",
       "      <td>121.80</td>\n",
       "      <td>121.95</td>\n",
       "      <td>120.25</td>\n",
       "      <td>120.35</td>\n",
       "      <td>120.65</td>\n",
       "      <td>281312</td>\n",
       "      <td>340.31</td>\n",
       "    </tr>\n",
       "    <tr>\n",
       "      <th>2031</th>\n",
       "      <td>2010-07-26</td>\n",
       "      <td>120.10</td>\n",
       "      <td>121.00</td>\n",
       "      <td>117.10</td>\n",
       "      <td>117.10</td>\n",
       "      <td>117.60</td>\n",
       "      <td>658440</td>\n",
       "      <td>780.01</td>\n",
       "    </tr>\n",
       "    <tr>\n",
       "      <th>2030</th>\n",
       "      <td>2010-07-27</td>\n",
       "      <td>117.60</td>\n",
       "      <td>119.50</td>\n",
       "      <td>112.00</td>\n",
       "      <td>118.80</td>\n",
       "      <td>118.65</td>\n",
       "      <td>586100</td>\n",
       "      <td>694.98</td>\n",
       "    </tr>\n",
       "    <tr>\n",
       "      <th>...</th>\n",
       "      <td>...</td>\n",
       "      <td>...</td>\n",
       "      <td>...</td>\n",
       "      <td>...</td>\n",
       "      <td>...</td>\n",
       "      <td>...</td>\n",
       "      <td>...</td>\n",
       "      <td>...</td>\n",
       "    </tr>\n",
       "    <tr>\n",
       "      <th>4</th>\n",
       "      <td>2018-09-24</td>\n",
       "      <td>233.55</td>\n",
       "      <td>239.20</td>\n",
       "      <td>230.75</td>\n",
       "      <td>234.00</td>\n",
       "      <td>233.30</td>\n",
       "      <td>3423509</td>\n",
       "      <td>7999.55</td>\n",
       "    </tr>\n",
       "    <tr>\n",
       "      <th>3</th>\n",
       "      <td>2018-09-25</td>\n",
       "      <td>233.30</td>\n",
       "      <td>236.75</td>\n",
       "      <td>232.00</td>\n",
       "      <td>236.25</td>\n",
       "      <td>236.10</td>\n",
       "      <td>2349368</td>\n",
       "      <td>5503.90</td>\n",
       "    </tr>\n",
       "    <tr>\n",
       "      <th>2</th>\n",
       "      <td>2018-09-26</td>\n",
       "      <td>240.00</td>\n",
       "      <td>240.00</td>\n",
       "      <td>232.50</td>\n",
       "      <td>235.00</td>\n",
       "      <td>234.25</td>\n",
       "      <td>2240909</td>\n",
       "      <td>5248.60</td>\n",
       "    </tr>\n",
       "    <tr>\n",
       "      <th>1</th>\n",
       "      <td>2018-09-27</td>\n",
       "      <td>234.55</td>\n",
       "      <td>236.80</td>\n",
       "      <td>231.10</td>\n",
       "      <td>233.80</td>\n",
       "      <td>233.25</td>\n",
       "      <td>5082859</td>\n",
       "      <td>11859.95</td>\n",
       "    </tr>\n",
       "    <tr>\n",
       "      <th>0</th>\n",
       "      <td>2018-09-28</td>\n",
       "      <td>234.05</td>\n",
       "      <td>235.95</td>\n",
       "      <td>230.20</td>\n",
       "      <td>233.50</td>\n",
       "      <td>233.75</td>\n",
       "      <td>3069914</td>\n",
       "      <td>7162.35</td>\n",
       "    </tr>\n",
       "  </tbody>\n",
       "</table>\n",
       "<p>2035 rows × 8 columns</p>\n",
       "</div>"
      ],
      "text/plain": [
       "            Date    Open    High     Low    Last   Close  \\\n",
       "2034  2010-07-21  122.10  123.00  121.05  121.10  121.55   \n",
       "2033  2010-07-22  120.30  122.00  120.25  120.75  120.90   \n",
       "2032  2010-07-23  121.80  121.95  120.25  120.35  120.65   \n",
       "2031  2010-07-26  120.10  121.00  117.10  117.10  117.60   \n",
       "2030  2010-07-27  117.60  119.50  112.00  118.80  118.65   \n",
       "...          ...     ...     ...     ...     ...     ...   \n",
       "4     2018-09-24  233.55  239.20  230.75  234.00  233.30   \n",
       "3     2018-09-25  233.30  236.75  232.00  236.25  236.10   \n",
       "2     2018-09-26  240.00  240.00  232.50  235.00  234.25   \n",
       "1     2018-09-27  234.55  236.80  231.10  233.80  233.25   \n",
       "0     2018-09-28  234.05  235.95  230.20  233.50  233.75   \n",
       "\n",
       "      Total Trade Quantity  Turnover (Lacs)  \n",
       "2034                658666           803.56  \n",
       "2033                293312           355.17  \n",
       "2032                281312           340.31  \n",
       "2031                658440           780.01  \n",
       "2030                586100           694.98  \n",
       "...                    ...              ...  \n",
       "4                  3423509          7999.55  \n",
       "3                  2349368          5503.90  \n",
       "2                  2240909          5248.60  \n",
       "1                  5082859         11859.95  \n",
       "0                  3069914          7162.35  \n",
       "\n",
       "[2035 rows x 8 columns]"
      ]
     },
     "execution_count": 16,
     "metadata": {},
     "output_type": "execute_result"
    }
   ],
   "source": [
    "copy_df = df.copy()\n",
    "copy_df"
   ]
  },
  {
   "cell_type": "code",
   "execution_count": 17,
   "id": "bd8e0d17",
   "metadata": {},
   "outputs": [
    {
     "data": {
      "text/html": [
       "<div>\n",
       "<style scoped>\n",
       "    .dataframe tbody tr th:only-of-type {\n",
       "        vertical-align: middle;\n",
       "    }\n",
       "\n",
       "    .dataframe tbody tr th {\n",
       "        vertical-align: top;\n",
       "    }\n",
       "\n",
       "    .dataframe thead th {\n",
       "        text-align: right;\n",
       "    }\n",
       "</style>\n",
       "<table border=\"1\" class=\"dataframe\">\n",
       "  <thead>\n",
       "    <tr style=\"text-align: right;\">\n",
       "      <th></th>\n",
       "      <th>index</th>\n",
       "      <th>Date</th>\n",
       "      <th>Open</th>\n",
       "      <th>High</th>\n",
       "      <th>Low</th>\n",
       "      <th>Last</th>\n",
       "      <th>Close</th>\n",
       "      <th>Total Trade Quantity</th>\n",
       "      <th>Turnover (Lacs)</th>\n",
       "    </tr>\n",
       "  </thead>\n",
       "  <tbody>\n",
       "    <tr>\n",
       "      <th>0</th>\n",
       "      <td>2034</td>\n",
       "      <td>2010-07-21</td>\n",
       "      <td>122.10</td>\n",
       "      <td>123.00</td>\n",
       "      <td>121.05</td>\n",
       "      <td>121.10</td>\n",
       "      <td>121.55</td>\n",
       "      <td>658666</td>\n",
       "      <td>803.56</td>\n",
       "    </tr>\n",
       "    <tr>\n",
       "      <th>1</th>\n",
       "      <td>2033</td>\n",
       "      <td>2010-07-22</td>\n",
       "      <td>120.30</td>\n",
       "      <td>122.00</td>\n",
       "      <td>120.25</td>\n",
       "      <td>120.75</td>\n",
       "      <td>120.90</td>\n",
       "      <td>293312</td>\n",
       "      <td>355.17</td>\n",
       "    </tr>\n",
       "    <tr>\n",
       "      <th>2</th>\n",
       "      <td>2032</td>\n",
       "      <td>2010-07-23</td>\n",
       "      <td>121.80</td>\n",
       "      <td>121.95</td>\n",
       "      <td>120.25</td>\n",
       "      <td>120.35</td>\n",
       "      <td>120.65</td>\n",
       "      <td>281312</td>\n",
       "      <td>340.31</td>\n",
       "    </tr>\n",
       "    <tr>\n",
       "      <th>3</th>\n",
       "      <td>2031</td>\n",
       "      <td>2010-07-26</td>\n",
       "      <td>120.10</td>\n",
       "      <td>121.00</td>\n",
       "      <td>117.10</td>\n",
       "      <td>117.10</td>\n",
       "      <td>117.60</td>\n",
       "      <td>658440</td>\n",
       "      <td>780.01</td>\n",
       "    </tr>\n",
       "    <tr>\n",
       "      <th>4</th>\n",
       "      <td>2030</td>\n",
       "      <td>2010-07-27</td>\n",
       "      <td>117.60</td>\n",
       "      <td>119.50</td>\n",
       "      <td>112.00</td>\n",
       "      <td>118.80</td>\n",
       "      <td>118.65</td>\n",
       "      <td>586100</td>\n",
       "      <td>694.98</td>\n",
       "    </tr>\n",
       "    <tr>\n",
       "      <th>...</th>\n",
       "      <td>...</td>\n",
       "      <td>...</td>\n",
       "      <td>...</td>\n",
       "      <td>...</td>\n",
       "      <td>...</td>\n",
       "      <td>...</td>\n",
       "      <td>...</td>\n",
       "      <td>...</td>\n",
       "      <td>...</td>\n",
       "    </tr>\n",
       "    <tr>\n",
       "      <th>2030</th>\n",
       "      <td>4</td>\n",
       "      <td>2018-09-24</td>\n",
       "      <td>233.55</td>\n",
       "      <td>239.20</td>\n",
       "      <td>230.75</td>\n",
       "      <td>234.00</td>\n",
       "      <td>233.30</td>\n",
       "      <td>3423509</td>\n",
       "      <td>7999.55</td>\n",
       "    </tr>\n",
       "    <tr>\n",
       "      <th>2031</th>\n",
       "      <td>3</td>\n",
       "      <td>2018-09-25</td>\n",
       "      <td>233.30</td>\n",
       "      <td>236.75</td>\n",
       "      <td>232.00</td>\n",
       "      <td>236.25</td>\n",
       "      <td>236.10</td>\n",
       "      <td>2349368</td>\n",
       "      <td>5503.90</td>\n",
       "    </tr>\n",
       "    <tr>\n",
       "      <th>2032</th>\n",
       "      <td>2</td>\n",
       "      <td>2018-09-26</td>\n",
       "      <td>240.00</td>\n",
       "      <td>240.00</td>\n",
       "      <td>232.50</td>\n",
       "      <td>235.00</td>\n",
       "      <td>234.25</td>\n",
       "      <td>2240909</td>\n",
       "      <td>5248.60</td>\n",
       "    </tr>\n",
       "    <tr>\n",
       "      <th>2033</th>\n",
       "      <td>1</td>\n",
       "      <td>2018-09-27</td>\n",
       "      <td>234.55</td>\n",
       "      <td>236.80</td>\n",
       "      <td>231.10</td>\n",
       "      <td>233.80</td>\n",
       "      <td>233.25</td>\n",
       "      <td>5082859</td>\n",
       "      <td>11859.95</td>\n",
       "    </tr>\n",
       "    <tr>\n",
       "      <th>2034</th>\n",
       "      <td>0</td>\n",
       "      <td>2018-09-28</td>\n",
       "      <td>234.05</td>\n",
       "      <td>235.95</td>\n",
       "      <td>230.20</td>\n",
       "      <td>233.50</td>\n",
       "      <td>233.75</td>\n",
       "      <td>3069914</td>\n",
       "      <td>7162.35</td>\n",
       "    </tr>\n",
       "  </tbody>\n",
       "</table>\n",
       "<p>2035 rows × 9 columns</p>\n",
       "</div>"
      ],
      "text/plain": [
       "      index        Date    Open    High     Low    Last   Close  \\\n",
       "0      2034  2010-07-21  122.10  123.00  121.05  121.10  121.55   \n",
       "1      2033  2010-07-22  120.30  122.00  120.25  120.75  120.90   \n",
       "2      2032  2010-07-23  121.80  121.95  120.25  120.35  120.65   \n",
       "3      2031  2010-07-26  120.10  121.00  117.10  117.10  117.60   \n",
       "4      2030  2010-07-27  117.60  119.50  112.00  118.80  118.65   \n",
       "...     ...         ...     ...     ...     ...     ...     ...   \n",
       "2030      4  2018-09-24  233.55  239.20  230.75  234.00  233.30   \n",
       "2031      3  2018-09-25  233.30  236.75  232.00  236.25  236.10   \n",
       "2032      2  2018-09-26  240.00  240.00  232.50  235.00  234.25   \n",
       "2033      1  2018-09-27  234.55  236.80  231.10  233.80  233.25   \n",
       "2034      0  2018-09-28  234.05  235.95  230.20  233.50  233.75   \n",
       "\n",
       "      Total Trade Quantity  Turnover (Lacs)  \n",
       "0                   658666           803.56  \n",
       "1                   293312           355.17  \n",
       "2                   281312           340.31  \n",
       "3                   658440           780.01  \n",
       "4                   586100           694.98  \n",
       "...                    ...              ...  \n",
       "2030               3423509          7999.55  \n",
       "2031               2349368          5503.90  \n",
       "2032               2240909          5248.60  \n",
       "2033               5082859         11859.95  \n",
       "2034               3069914          7162.35  \n",
       "\n",
       "[2035 rows x 9 columns]"
      ]
     },
     "execution_count": 17,
     "metadata": {},
     "output_type": "execute_result"
    }
   ],
   "source": [
    "copy_df.reset_index(inplace =True)\n",
    "copy_df"
   ]
  },
  {
   "cell_type": "code",
   "execution_count": 18,
   "id": "fe22b9f5",
   "metadata": {},
   "outputs": [
    {
     "data": {
      "text/html": [
       "<div>\n",
       "<style scoped>\n",
       "    .dataframe tbody tr th:only-of-type {\n",
       "        vertical-align: middle;\n",
       "    }\n",
       "\n",
       "    .dataframe tbody tr th {\n",
       "        vertical-align: top;\n",
       "    }\n",
       "\n",
       "    .dataframe thead th {\n",
       "        text-align: right;\n",
       "    }\n",
       "</style>\n",
       "<table border=\"1\" class=\"dataframe\">\n",
       "  <thead>\n",
       "    <tr style=\"text-align: right;\">\n",
       "      <th></th>\n",
       "      <th>Date</th>\n",
       "      <th>Open</th>\n",
       "      <th>High</th>\n",
       "      <th>Low</th>\n",
       "      <th>Last</th>\n",
       "      <th>Close</th>\n",
       "      <th>Total Trade Quantity</th>\n",
       "      <th>Turnover (Lacs)</th>\n",
       "    </tr>\n",
       "  </thead>\n",
       "  <tbody>\n",
       "    <tr>\n",
       "      <th>0</th>\n",
       "      <td>2010-07-21</td>\n",
       "      <td>122.10</td>\n",
       "      <td>123.00</td>\n",
       "      <td>121.05</td>\n",
       "      <td>121.10</td>\n",
       "      <td>121.55</td>\n",
       "      <td>658666</td>\n",
       "      <td>803.56</td>\n",
       "    </tr>\n",
       "    <tr>\n",
       "      <th>1</th>\n",
       "      <td>2010-07-22</td>\n",
       "      <td>120.30</td>\n",
       "      <td>122.00</td>\n",
       "      <td>120.25</td>\n",
       "      <td>120.75</td>\n",
       "      <td>120.90</td>\n",
       "      <td>293312</td>\n",
       "      <td>355.17</td>\n",
       "    </tr>\n",
       "    <tr>\n",
       "      <th>2</th>\n",
       "      <td>2010-07-23</td>\n",
       "      <td>121.80</td>\n",
       "      <td>121.95</td>\n",
       "      <td>120.25</td>\n",
       "      <td>120.35</td>\n",
       "      <td>120.65</td>\n",
       "      <td>281312</td>\n",
       "      <td>340.31</td>\n",
       "    </tr>\n",
       "    <tr>\n",
       "      <th>3</th>\n",
       "      <td>2010-07-26</td>\n",
       "      <td>120.10</td>\n",
       "      <td>121.00</td>\n",
       "      <td>117.10</td>\n",
       "      <td>117.10</td>\n",
       "      <td>117.60</td>\n",
       "      <td>658440</td>\n",
       "      <td>780.01</td>\n",
       "    </tr>\n",
       "    <tr>\n",
       "      <th>4</th>\n",
       "      <td>2010-07-27</td>\n",
       "      <td>117.60</td>\n",
       "      <td>119.50</td>\n",
       "      <td>112.00</td>\n",
       "      <td>118.80</td>\n",
       "      <td>118.65</td>\n",
       "      <td>586100</td>\n",
       "      <td>694.98</td>\n",
       "    </tr>\n",
       "    <tr>\n",
       "      <th>...</th>\n",
       "      <td>...</td>\n",
       "      <td>...</td>\n",
       "      <td>...</td>\n",
       "      <td>...</td>\n",
       "      <td>...</td>\n",
       "      <td>...</td>\n",
       "      <td>...</td>\n",
       "      <td>...</td>\n",
       "    </tr>\n",
       "    <tr>\n",
       "      <th>2030</th>\n",
       "      <td>2018-09-24</td>\n",
       "      <td>233.55</td>\n",
       "      <td>239.20</td>\n",
       "      <td>230.75</td>\n",
       "      <td>234.00</td>\n",
       "      <td>233.30</td>\n",
       "      <td>3423509</td>\n",
       "      <td>7999.55</td>\n",
       "    </tr>\n",
       "    <tr>\n",
       "      <th>2031</th>\n",
       "      <td>2018-09-25</td>\n",
       "      <td>233.30</td>\n",
       "      <td>236.75</td>\n",
       "      <td>232.00</td>\n",
       "      <td>236.25</td>\n",
       "      <td>236.10</td>\n",
       "      <td>2349368</td>\n",
       "      <td>5503.90</td>\n",
       "    </tr>\n",
       "    <tr>\n",
       "      <th>2032</th>\n",
       "      <td>2018-09-26</td>\n",
       "      <td>240.00</td>\n",
       "      <td>240.00</td>\n",
       "      <td>232.50</td>\n",
       "      <td>235.00</td>\n",
       "      <td>234.25</td>\n",
       "      <td>2240909</td>\n",
       "      <td>5248.60</td>\n",
       "    </tr>\n",
       "    <tr>\n",
       "      <th>2033</th>\n",
       "      <td>2018-09-27</td>\n",
       "      <td>234.55</td>\n",
       "      <td>236.80</td>\n",
       "      <td>231.10</td>\n",
       "      <td>233.80</td>\n",
       "      <td>233.25</td>\n",
       "      <td>5082859</td>\n",
       "      <td>11859.95</td>\n",
       "    </tr>\n",
       "    <tr>\n",
       "      <th>2034</th>\n",
       "      <td>2018-09-28</td>\n",
       "      <td>234.05</td>\n",
       "      <td>235.95</td>\n",
       "      <td>230.20</td>\n",
       "      <td>233.50</td>\n",
       "      <td>233.75</td>\n",
       "      <td>3069914</td>\n",
       "      <td>7162.35</td>\n",
       "    </tr>\n",
       "  </tbody>\n",
       "</table>\n",
       "<p>2035 rows × 8 columns</p>\n",
       "</div>"
      ],
      "text/plain": [
       "            Date    Open    High     Low    Last   Close  \\\n",
       "0     2010-07-21  122.10  123.00  121.05  121.10  121.55   \n",
       "1     2010-07-22  120.30  122.00  120.25  120.75  120.90   \n",
       "2     2010-07-23  121.80  121.95  120.25  120.35  120.65   \n",
       "3     2010-07-26  120.10  121.00  117.10  117.10  117.60   \n",
       "4     2010-07-27  117.60  119.50  112.00  118.80  118.65   \n",
       "...          ...     ...     ...     ...     ...     ...   \n",
       "2030  2018-09-24  233.55  239.20  230.75  234.00  233.30   \n",
       "2031  2018-09-25  233.30  236.75  232.00  236.25  236.10   \n",
       "2032  2018-09-26  240.00  240.00  232.50  235.00  234.25   \n",
       "2033  2018-09-27  234.55  236.80  231.10  233.80  233.25   \n",
       "2034  2018-09-28  234.05  235.95  230.20  233.50  233.75   \n",
       "\n",
       "      Total Trade Quantity  Turnover (Lacs)  \n",
       "0                   658666           803.56  \n",
       "1                   293312           355.17  \n",
       "2                   281312           340.31  \n",
       "3                   658440           780.01  \n",
       "4                   586100           694.98  \n",
       "...                    ...              ...  \n",
       "2030               3423509          7999.55  \n",
       "2031               2349368          5503.90  \n",
       "2032               2240909          5248.60  \n",
       "2033               5082859         11859.95  \n",
       "2034               3069914          7162.35  \n",
       "\n",
       "[2035 rows x 8 columns]"
      ]
     },
     "execution_count": 18,
     "metadata": {},
     "output_type": "execute_result"
    }
   ],
   "source": [
    "copy_df.drop(\"index\", axis=1, inplace=True)\n",
    "copy_df"
   ]
  },
  {
   "cell_type": "code",
   "execution_count": 19,
   "id": "e2eeda2a",
   "metadata": {},
   "outputs": [
    {
     "data": {
      "text/html": [
       "<div>\n",
       "<style scoped>\n",
       "    .dataframe tbody tr th:only-of-type {\n",
       "        vertical-align: middle;\n",
       "    }\n",
       "\n",
       "    .dataframe tbody tr th {\n",
       "        vertical-align: top;\n",
       "    }\n",
       "\n",
       "    .dataframe thead th {\n",
       "        text-align: right;\n",
       "    }\n",
       "</style>\n",
       "<table border=\"1\" class=\"dataframe\">\n",
       "  <thead>\n",
       "    <tr style=\"text-align: right;\">\n",
       "      <th></th>\n",
       "      <th>Open</th>\n",
       "      <th>High</th>\n",
       "      <th>Low</th>\n",
       "      <th>Last</th>\n",
       "      <th>Close</th>\n",
       "      <th>Total Trade Quantity</th>\n",
       "      <th>Turnover (Lacs)</th>\n",
       "    </tr>\n",
       "  </thead>\n",
       "  <tbody>\n",
       "    <tr>\n",
       "      <th>Open</th>\n",
       "      <td>1.000000</td>\n",
       "      <td>0.999015</td>\n",
       "      <td>0.998825</td>\n",
       "      <td>0.997781</td>\n",
       "      <td>0.997840</td>\n",
       "      <td>0.385951</td>\n",
       "      <td>0.612877</td>\n",
       "    </tr>\n",
       "    <tr>\n",
       "      <th>High</th>\n",
       "      <td>0.999015</td>\n",
       "      <td>1.000000</td>\n",
       "      <td>0.998773</td>\n",
       "      <td>0.999155</td>\n",
       "      <td>0.999194</td>\n",
       "      <td>0.406405</td>\n",
       "      <td>0.630589</td>\n",
       "    </tr>\n",
       "    <tr>\n",
       "      <th>Low</th>\n",
       "      <td>0.998825</td>\n",
       "      <td>0.998773</td>\n",
       "      <td>1.000000</td>\n",
       "      <td>0.999051</td>\n",
       "      <td>0.999119</td>\n",
       "      <td>0.380621</td>\n",
       "      <td>0.608502</td>\n",
       "    </tr>\n",
       "    <tr>\n",
       "      <th>Last</th>\n",
       "      <td>0.997781</td>\n",
       "      <td>0.999155</td>\n",
       "      <td>0.999051</td>\n",
       "      <td>1.000000</td>\n",
       "      <td>0.999961</td>\n",
       "      <td>0.399328</td>\n",
       "      <td>0.624584</td>\n",
       "    </tr>\n",
       "    <tr>\n",
       "      <th>Close</th>\n",
       "      <td>0.997840</td>\n",
       "      <td>0.999194</td>\n",
       "      <td>0.999119</td>\n",
       "      <td>0.999961</td>\n",
       "      <td>1.000000</td>\n",
       "      <td>0.398911</td>\n",
       "      <td>0.624213</td>\n",
       "    </tr>\n",
       "    <tr>\n",
       "      <th>Total Trade Quantity</th>\n",
       "      <td>0.385951</td>\n",
       "      <td>0.406405</td>\n",
       "      <td>0.380621</td>\n",
       "      <td>0.399328</td>\n",
       "      <td>0.398911</td>\n",
       "      <td>1.000000</td>\n",
       "      <td>0.926931</td>\n",
       "    </tr>\n",
       "    <tr>\n",
       "      <th>Turnover (Lacs)</th>\n",
       "      <td>0.612877</td>\n",
       "      <td>0.630589</td>\n",
       "      <td>0.608502</td>\n",
       "      <td>0.624584</td>\n",
       "      <td>0.624213</td>\n",
       "      <td>0.926931</td>\n",
       "      <td>1.000000</td>\n",
       "    </tr>\n",
       "  </tbody>\n",
       "</table>\n",
       "</div>"
      ],
      "text/plain": [
       "                          Open      High       Low      Last     Close  \\\n",
       "Open                  1.000000  0.999015  0.998825  0.997781  0.997840   \n",
       "High                  0.999015  1.000000  0.998773  0.999155  0.999194   \n",
       "Low                   0.998825  0.998773  1.000000  0.999051  0.999119   \n",
       "Last                  0.997781  0.999155  0.999051  1.000000  0.999961   \n",
       "Close                 0.997840  0.999194  0.999119  0.999961  1.000000   \n",
       "Total Trade Quantity  0.385951  0.406405  0.380621  0.399328  0.398911   \n",
       "Turnover (Lacs)       0.612877  0.630589  0.608502  0.624584  0.624213   \n",
       "\n",
       "                      Total Trade Quantity  Turnover (Lacs)  \n",
       "Open                              0.385951         0.612877  \n",
       "High                              0.406405         0.630589  \n",
       "Low                               0.380621         0.608502  \n",
       "Last                              0.399328         0.624584  \n",
       "Close                             0.398911         0.624213  \n",
       "Total Trade Quantity              1.000000         0.926931  \n",
       "Turnover (Lacs)                   0.926931         1.000000  "
      ]
     },
     "execution_count": 19,
     "metadata": {},
     "output_type": "execute_result"
    }
   ],
   "source": [
    "# correlation matrix\n",
    "copy_df.corr()"
   ]
  },
  {
   "cell_type": "code",
   "execution_count": 20,
   "id": "a7bccab6",
   "metadata": {},
   "outputs": [
    {
     "data": {
      "image/png": "[encoded data removed]",
      "text/plain": [
       "<Figure size 720x504 with 1 Axes>"
      ]
     },
     "metadata": {
      "needs_background": "light"
     },
     "output_type": "display_data"
    }
   ],
   "source": [
    "plt.figure(figsize = (10,7))\n",
    "plt.plot(df['Date'], df['Close'])\n",
    "plt.xlabel(\"Date\", fontsize = 14)\n",
    "plt.ylabel(\"Close Price\", fontsize = 14)\n",
    "plt.title(\"Variation of closing price with diffrerent year\" , color = 'r' , fontsize = 18)\n",
    "plt.show()\n"
   ]
  },
  {
   "cell_type": "markdown",
   "id": "150235da",
   "metadata": {},
   "source": [
    "### 3 . Apply Univariate approch by selecting closing price as a target variable"
   ]
  },
  {
   "cell_type": "code",
   "execution_count": 21,
   "id": "17e25cc3",
   "metadata": {},
   "outputs": [
    {
     "data": {
      "text/plain": [
       "2034    121.55\n",
       "2033    120.90\n",
       "2032    120.65\n",
       "2031    117.60\n",
       "2030    118.65\n",
       "         ...  \n",
       "4       233.30\n",
       "3       236.10\n",
       "2       234.25\n",
       "1       233.25\n",
       "0       233.75\n",
       "Name: Close, Length: 2035, dtype: float64"
      ]
     },
     "execution_count": 21,
     "metadata": {},
     "output_type": "execute_result"
    }
   ],
   "source": [
    "close_df = df[\"Close\"]\n",
    "close_df"
   ]
  },
  {
   "cell_type": "code",
   "execution_count": 22,
   "id": "ddbce952",
   "metadata": {},
   "outputs": [
    {
     "data": {
      "text/plain": [
       "(2035,)"
      ]
     },
     "execution_count": 22,
     "metadata": {},
     "output_type": "execute_result"
    }
   ],
   "source": [
    "close_df.shape"
   ]
  },
  {
   "cell_type": "markdown",
   "id": "ce740044",
   "metadata": {},
   "source": [
    "### 4. Exploration and Analysis of Datasets."
   ]
  },
  {
   "cell_type": "code",
   "execution_count": 23,
   "id": "1c87640a",
   "metadata": {},
   "outputs": [
    {
     "data": {
      "text/plain": [
       "2035"
      ]
     },
     "execution_count": 23,
     "metadata": {},
     "output_type": "execute_result"
    }
   ],
   "source": [
    "close_df.size"
   ]
  },
  {
   "cell_type": "code",
   "execution_count": 24,
   "id": "b1d8425f",
   "metadata": {},
   "outputs": [
    {
     "name": "stdout",
     "output_type": "stream",
     "text": [
      "<class 'pandas.core.series.Series'>\n",
      "Int64Index: 2035 entries, 2034 to 0\n",
      "Series name: Close\n",
      "Non-Null Count  Dtype  \n",
      "--------------  -----  \n",
      "2035 non-null   float64\n",
      "dtypes: float64(1)\n",
      "memory usage: 31.8 KB\n"
     ]
    }
   ],
   "source": [
    "close_df.info()"
   ]
  },
  {
   "cell_type": "code",
   "execution_count": 25,
   "id": "ae433a98",
   "metadata": {},
   "outputs": [
    {
     "data": {
      "text/plain": [
       "count    2035.00000\n",
       "mean      149.45027\n",
       "std        48.71204\n",
       "min        80.95000\n",
       "25%       120.05000\n",
       "50%       141.25000\n",
       "75%       156.90000\n",
       "max       325.75000\n",
       "Name: Close, dtype: float64"
      ]
     },
     "execution_count": 25,
     "metadata": {},
     "output_type": "execute_result"
    }
   ],
   "source": [
    "close_df.describe()"
   ]
  },
  {
   "cell_type": "code",
   "execution_count": 26,
   "id": "0af38606",
   "metadata": {},
   "outputs": [
    {
     "data": {
      "image/png": "[encoded data removed]",
      "text/plain": [
       "<Figure size 432x288 with 1 Axes>"
      ]
     },
     "metadata": {
      "needs_background": "light"
     },
     "output_type": "display_data"
    }
   ],
   "source": [
    "plt.plot(df.Date, close_df)\n",
    "plt.xlabel(\"Time in year\", fontsize = 14)\n",
    "plt.ylabel(\"Closing Price\", fontsize = 14)\n",
    "plt.title(\"Variation of closing price with Time\" , color = 'r' , fontsize = 18)\n",
    "plt.show()\n"
   ]
  },
  {
   "cell_type": "markdown",
   "id": "20fbe651",
   "metadata": {},
   "source": [
    "### 5. Preprocessing MinMaxScaler"
   ]
  },
  {
   "cell_type": "code",
   "execution_count": 27,
   "id": "dfa06730",
   "metadata": {},
   "outputs": [
    {
     "data": {
      "text/plain": [
       "array([[0.16584967],\n",
       "       [0.16319444],\n",
       "       [0.1621732 ],\n",
       "       ...,\n",
       "       [0.62622549],\n",
       "       [0.62214052],\n",
       "       [0.62418301]])"
      ]
     },
     "execution_count": 27,
     "metadata": {},
     "output_type": "execute_result"
    }
   ],
   "source": [
    "from sklearn.preprocessing import MinMaxScaler\n",
    "minmax = MinMaxScaler(feature_range = (0, 1))\n",
    "close_df = minmax.fit_transform(np.array(close_df).reshape(-1,1))\n",
    "close_df"
   ]
  },
  {
   "cell_type": "markdown",
   "id": "ef969334",
   "metadata": {},
   "source": [
    "### 6: Preparing train and test datasets"
   ]
  },
  {
   "cell_type": "code",
   "execution_count": 28,
   "id": "389b51ea",
   "metadata": {},
   "outputs": [],
   "source": [
    "train_size = int(len(close_df)*0.7)\n",
    "test_size = len(close_df) - train_size\n",
    "train_data = close_df[:train_size, :] # Slicing row from 0 to train_size indexlocation but column is kept unsliced.\n",
    "test_data = close_df[train_size:len(close_df), :1]"
   ]
  },
  {
   "cell_type": "code",
   "execution_count": 29,
   "id": "439aabe2",
   "metadata": {},
   "outputs": [
    {
     "data": {
      "text/plain": [
       "(1424, 1)"
      ]
     },
     "execution_count": 29,
     "metadata": {},
     "output_type": "execute_result"
    }
   ],
   "source": [
    "train_data.shape"
   ]
  },
  {
   "cell_type": "code",
   "execution_count": 30,
   "id": "a5431ac9",
   "metadata": {},
   "outputs": [
    {
     "data": {
      "text/plain": [
       "(611, 1)"
      ]
     },
     "execution_count": 30,
     "metadata": {},
     "output_type": "execute_result"
    }
   ],
   "source": [
    "test_data.shape"
   ]
  },
  {
   "cell_type": "code",
   "execution_count": 31,
   "id": "87c5dc41",
   "metadata": {},
   "outputs": [
    {
     "data": {
      "text/plain": [
       "2035"
      ]
     },
     "execution_count": 31,
     "metadata": {},
     "output_type": "execute_result"
    }
   ],
   "source": [
    "\n",
    "1424 + 611"
   ]
  },
  {
   "cell_type": "code",
   "execution_count": 32,
   "id": "83e0682c",
   "metadata": {},
   "outputs": [
    {
     "data": {
      "text/plain": [
       "array([[0.1621732 ],\n",
       "       [0.15951797],\n",
       "       [0.16707516],\n",
       "       [0.15992647],\n",
       "       [0.16053922],\n",
       "       [0.16441993],\n",
       "       [0.16687092],\n",
       "       [0.1693219 ],\n",
       "       [0.16074346],\n",
       "       [0.15972222]])"
      ]
     },
     "execution_count": 32,
     "metadata": {},
     "output_type": "execute_result"
    }
   ],
   "source": [
    "test_data[:10]"
   ]
  },
  {
   "cell_type": "code",
   "execution_count": 33,
   "id": "5a12306b",
   "metadata": {},
   "outputs": [],
   "source": [
    "def create_dataset(dataset, time_step):\n",
    "    X_data = []\n",
    "    Y_data = []\n",
    "    for i in range(len(dataset)-time_step-1):\n",
    "        X_data.append(dataset[i:(i+time_step), 0])\n",
    "        Y_data.append(dataset[i+time_step, 0])\n",
    "    return np.array(X_data), np.array(Y_data)"
   ]
  },
  {
   "cell_type": "code",
   "execution_count": 34,
   "id": "fa29ce9e",
   "metadata": {},
   "outputs": [],
   "source": [
    "# Reshaping into tuples of the form with X=t, t+1,..t+99 and Y=t+100 for time_step=100\n",
    "\n",
    "time_step = 100\n",
    "X_train, y_train = create_dataset(train_data, time_step)\n",
    "X_test, y_test = create_dataset(test_data, time_step)"
   ]
  },
  {
   "cell_type": "code",
   "execution_count": 35,
   "id": "dd6d8868",
   "metadata": {},
   "outputs": [
    {
     "data": {
      "text/plain": [
       "(1323, 100)"
      ]
     },
     "execution_count": 35,
     "metadata": {},
     "output_type": "execute_result"
    }
   ],
   "source": [
    "X_train.shape"
   ]
  },
  {
   "cell_type": "code",
   "execution_count": 36,
   "id": "6f5eebd1",
   "metadata": {},
   "outputs": [
    {
     "data": {
      "text/plain": [
       "(1323,)"
      ]
     },
     "execution_count": 36,
     "metadata": {},
     "output_type": "execute_result"
    }
   ],
   "source": [
    "y_train.shape"
   ]
  },
  {
   "cell_type": "code",
   "execution_count": 37,
   "id": "7ccad5cd",
   "metadata": {},
   "outputs": [
    {
     "data": {
      "text/plain": [
       "((510, 100), (510,))"
      ]
     },
     "execution_count": 37,
     "metadata": {},
     "output_type": "execute_result"
    }
   ],
   "source": [
    "X_test.shape, y_test.shape"
   ]
  },
  {
   "cell_type": "markdown",
   "id": "3fbd046d",
   "metadata": {},
   "source": [
    "#### Reshaping input into 3-Dimensional form required for LSTM"
   ]
  },
  {
   "cell_type": "code",
   "execution_count": 38,
   "id": "cf1a2db7",
   "metadata": {},
   "outputs": [],
   "source": [
    "X_train = X_train.reshape(X_train.shape[0], X_train.shape[1], 1)\n",
    "X_test = X_test.reshape(X_test.shape[0], X_test.shape[1], 1)"
   ]
  },
  {
   "cell_type": "markdown",
   "id": "04b1be0e",
   "metadata": {},
   "source": [
    "### 7: Constructing Stacked LSTM model"
   ]
  },
  {
   "cell_type": "code",
   "execution_count": 39,
   "id": "2d788d74",
   "metadata": {},
   "outputs": [],
   "source": [
    "# Constructing our stacked LSTM model\n",
    "from tensorflow.keras.models import Sequential\n",
    "from tensorflow.keras.layers import Dense\n",
    "from tensorflow.keras.layers import LSTM\n",
    "\n",
    "model = Sequential()\n",
    "model.add(LSTM(50, return_sequences=True, input_shape=(time_step, 1))) #Input layer with 50 neurons\n",
    "model.add(LSTM(50, return_sequences=True)) # Hidden layers with 50 neurons\n",
    "model.add(LSTM(50))\n",
    "model.add(Dense(1))# Output Layer\n",
    "model.compile(loss='mean_squared_error', optimizer='adam')"
   ]
  },
  {
   "cell_type": "code",
   "execution_count": 40,
   "id": "2f240964",
   "metadata": {},
   "outputs": [
    {
     "name": "stdout",
     "output_type": "stream",
     "text": [
      "Model: \"sequential\"\n",
      "_________________________________________________________________\n",
      " Layer (type)                Output Shape              Param #   \n",
      "=================================================================\n",
      " lstm (LSTM)                 (None, 100, 50)           10400     \n",
      "                                                                 \n",
      " lstm_1 (LSTM)               (None, 100, 50)           20200     \n",
      "                                                                 \n",
      " lstm_2 (LSTM)               (None, 50)                20200     \n",
      "                                                                 \n",
      " dense (Dense)               (None, 1)                 51        \n",
      "                                                                 \n",
      "=================================================================\n",
      "Total params: 50,851\n",
      "Trainable params: 50,851\n",
      "Non-trainable params: 0\n",
      "_________________________________________________________________\n"
     ]
    }
   ],
   "source": [
    "model.summary()"
   ]
  },
  {
   "cell_type": "code",
   "execution_count": 41,
   "id": "a02fb6b2",
   "metadata": {},
   "outputs": [
    {
     "name": "stdout",
     "output_type": "stream",
     "text": [
      "Epoch 1/100\n",
      "21/21 [==============================] - 10s 217ms/step - loss: 0.0082 - val_loss: 0.0144\n",
      "Epoch 2/100\n",
      "21/21 [==============================] - 4s 170ms/step - loss: 0.0017 - val_loss: 0.0043\n",
      "Epoch 3/100\n",
      "21/21 [==============================] - 4s 171ms/step - loss: 9.8405e-04 - val_loss: 0.0053\n",
      "Epoch 4/100\n",
      "21/21 [==============================] - 4s 168ms/step - loss: 8.7094e-04 - val_loss: 0.0050\n",
      "Epoch 5/100\n",
      "21/21 [==============================] - 4s 169ms/step - loss: 8.1586e-04 - val_loss: 0.0042\n",
      "Epoch 6/100\n",
      "21/21 [==============================] - 4s 168ms/step - loss: 7.8541e-04 - val_loss: 0.0043\n",
      "Epoch 7/100\n",
      "21/21 [==============================] - 3s 163ms/step - loss: 7.7292e-04 - val_loss: 0.0044\n",
      "Epoch 8/100\n",
      "21/21 [==============================] - 3s 156ms/step - loss: 7.2946e-04 - val_loss: 0.0033\n",
      "Epoch 9/100\n",
      "21/21 [==============================] - 3s 157ms/step - loss: 6.9291e-04 - val_loss: 0.0027\n",
      "Epoch 10/100\n",
      "21/21 [==============================] - 3s 155ms/step - loss: 6.8184e-04 - val_loss: 0.0022\n",
      "Epoch 11/100\n",
      "21/21 [==============================] - 3s 157ms/step - loss: 7.4252e-04 - val_loss: 0.0051\n",
      "Epoch 12/100\n",
      "21/21 [==============================] - 3s 161ms/step - loss: 6.3942e-04 - val_loss: 0.0040\n",
      "Epoch 13/100\n",
      "21/21 [==============================] - 3s 151ms/step - loss: 6.2202e-04 - val_loss: 0.0066\n",
      "Epoch 14/100\n",
      "21/21 [==============================] - 3s 152ms/step - loss: 5.9795e-04 - val_loss: 0.0054\n",
      "Epoch 15/100\n",
      "21/21 [==============================] - 3s 152ms/step - loss: 5.6671e-04 - val_loss: 0.0041\n",
      "Epoch 16/100\n",
      "21/21 [==============================] - 3s 155ms/step - loss: 5.5734e-04 - val_loss: 0.0041\n",
      "Epoch 17/100\n",
      "21/21 [==============================] - 3s 152ms/step - loss: 5.4478e-04 - val_loss: 0.0059\n",
      "Epoch 18/100\n",
      "21/21 [==============================] - 3s 149ms/step - loss: 5.3517e-04 - val_loss: 0.0066\n",
      "Epoch 19/100\n",
      "21/21 [==============================] - 3s 154ms/step - loss: 5.0737e-04 - val_loss: 0.0063\n",
      "Epoch 20/100\n",
      "21/21 [==============================] - 3s 152ms/step - loss: 5.2457e-04 - val_loss: 0.0075\n",
      "Epoch 21/100\n",
      "21/21 [==============================] - 3s 158ms/step - loss: 4.9279e-04 - val_loss: 0.0031\n",
      "Epoch 22/100\n",
      "21/21 [==============================] - 3s 151ms/step - loss: 5.1640e-04 - val_loss: 0.0050\n",
      "Epoch 23/100\n",
      "21/21 [==============================] - 3s 148ms/step - loss: 5.0271e-04 - val_loss: 0.0055\n",
      "Epoch 24/100\n",
      "21/21 [==============================] - 3s 154ms/step - loss: 4.4878e-04 - val_loss: 0.0050\n",
      "Epoch 25/100\n",
      "21/21 [==============================] - 3s 150ms/step - loss: 4.4681e-04 - val_loss: 0.0034\n",
      "Epoch 26/100\n",
      "21/21 [==============================] - 3s 153ms/step - loss: 4.6010e-04 - val_loss: 0.0052\n",
      "Epoch 27/100\n",
      "21/21 [==============================] - 3s 147ms/step - loss: 4.4867e-04 - val_loss: 0.0045\n",
      "Epoch 28/100\n",
      "21/21 [==============================] - 3s 157ms/step - loss: 4.0999e-04 - val_loss: 0.0023\n",
      "Epoch 29/100\n",
      "21/21 [==============================] - 3s 154ms/step - loss: 3.9380e-04 - val_loss: 0.0020\n",
      "Epoch 30/100\n",
      "21/21 [==============================] - 3s 156ms/step - loss: 3.9430e-04 - val_loss: 0.0031\n",
      "Epoch 31/100\n",
      "21/21 [==============================] - 3s 157ms/step - loss: 3.6352e-04 - val_loss: 0.0023\n",
      "Epoch 32/100\n",
      "21/21 [==============================] - 3s 156ms/step - loss: 3.5633e-04 - val_loss: 0.0031\n",
      "Epoch 33/100\n",
      "21/21 [==============================] - 3s 154ms/step - loss: 3.8807e-04 - val_loss: 0.0022\n",
      "Epoch 34/100\n",
      "21/21 [==============================] - 3s 150ms/step - loss: 3.7931e-04 - val_loss: 0.0020\n",
      "Epoch 35/100\n",
      "21/21 [==============================] - 3s 160ms/step - loss: 3.4541e-04 - val_loss: 0.0010\n",
      "Epoch 36/100\n",
      "21/21 [==============================] - 3s 155ms/step - loss: 3.6951e-04 - val_loss: 8.5241e-04\n",
      "Epoch 37/100\n",
      "21/21 [==============================] - 3s 150ms/step - loss: 3.3793e-04 - val_loss: 0.0026\n",
      "Epoch 38/100\n",
      "21/21 [==============================] - 3s 149ms/step - loss: 3.0844e-04 - val_loss: 0.0014\n",
      "Epoch 39/100\n",
      "21/21 [==============================] - 3s 151ms/step - loss: 3.0714e-04 - val_loss: 0.0019\n",
      "Epoch 40/100\n",
      "21/21 [==============================] - 3s 152ms/step - loss: 2.9193e-04 - val_loss: 0.0011\n",
      "Epoch 41/100\n",
      "21/21 [==============================] - 3s 159ms/step - loss: 2.8063e-04 - val_loss: 9.4732e-04\n",
      "Epoch 42/100\n",
      "21/21 [==============================] - 3s 153ms/step - loss: 3.0511e-04 - val_loss: 7.3448e-04\n",
      "Epoch 43/100\n",
      "21/21 [==============================] - 3s 150ms/step - loss: 2.7057e-04 - val_loss: 0.0013\n",
      "Epoch 44/100\n",
      "21/21 [==============================] - 3s 152ms/step - loss: 3.1503e-04 - val_loss: 9.4715e-04\n",
      "Epoch 45/100\n",
      "21/21 [==============================] - 3s 146ms/step - loss: 2.8981e-04 - val_loss: 0.0015\n",
      "Epoch 46/100\n",
      "21/21 [==============================] - 3s 152ms/step - loss: 2.6006e-04 - val_loss: 0.0015\n",
      "Epoch 47/100\n",
      "21/21 [==============================] - 3s 152ms/step - loss: 2.5396e-04 - val_loss: 0.0013\n",
      "Epoch 48/100\n",
      "21/21 [==============================] - 3s 153ms/step - loss: 2.4707e-04 - val_loss: 5.5912e-04\n",
      "Epoch 49/100\n",
      "21/21 [==============================] - 3s 145ms/step - loss: 2.6146e-04 - val_loss: 0.0019\n",
      "Epoch 50/100\n",
      "21/21 [==============================] - 3s 151ms/step - loss: 2.6730e-04 - val_loss: 8.2784e-04\n",
      "Epoch 51/100\n",
      "21/21 [==============================] - 3s 152ms/step - loss: 2.4342e-04 - val_loss: 5.0697e-04\n",
      "Epoch 52/100\n",
      "21/21 [==============================] - 3s 153ms/step - loss: 2.4153e-04 - val_loss: 6.8029e-04\n",
      "Epoch 53/100\n",
      "21/21 [==============================] - 3s 144ms/step - loss: 2.4627e-04 - val_loss: 5.6287e-04\n",
      "Epoch 54/100\n",
      "21/21 [==============================] - 3s 151ms/step - loss: 2.3140e-04 - val_loss: 5.4510e-04\n",
      "Epoch 55/100\n",
      "21/21 [==============================] - 3s 148ms/step - loss: 2.1412e-04 - val_loss: 6.8948e-04\n",
      "Epoch 56/100\n",
      "21/21 [==============================] - 3s 144ms/step - loss: 1.9744e-04 - val_loss: 6.1367e-04\n",
      "Epoch 57/100\n",
      "21/21 [==============================] - 3s 155ms/step - loss: 2.0306e-04 - val_loss: 4.7489e-04\n",
      "Epoch 58/100\n",
      "21/21 [==============================] - 3s 157ms/step - loss: 1.9993e-04 - val_loss: 0.0013\n",
      "Epoch 59/100\n",
      "21/21 [==============================] - 3s 157ms/step - loss: 2.0556e-04 - val_loss: 4.6784e-04\n",
      "Epoch 60/100\n",
      "21/21 [==============================] - 3s 150ms/step - loss: 1.9752e-04 - val_loss: 0.0018\n",
      "Epoch 61/100\n",
      "21/21 [==============================] - 3s 142ms/step - loss: 2.0011e-04 - val_loss: 4.8279e-04\n",
      "Epoch 62/100\n",
      "21/21 [==============================] - 3s 145ms/step - loss: 1.8694e-04 - val_loss: 6.1010e-04\n",
      "Epoch 63/100\n",
      "21/21 [==============================] - 3s 148ms/step - loss: 1.8037e-04 - val_loss: 4.4835e-04\n",
      "Epoch 64/100\n",
      "21/21 [==============================] - 3s 147ms/step - loss: 1.6977e-04 - val_loss: 5.3035e-04\n",
      "Epoch 65/100\n",
      "21/21 [==============================] - 3s 149ms/step - loss: 1.6306e-04 - val_loss: 4.5829e-04\n",
      "Epoch 66/100\n",
      "21/21 [==============================] - 3s 147ms/step - loss: 1.6839e-04 - val_loss: 6.4856e-04\n",
      "Epoch 67/100\n",
      "21/21 [==============================] - 3s 145ms/step - loss: 1.8185e-04 - val_loss: 4.9802e-04\n",
      "Epoch 68/100\n",
      "21/21 [==============================] - 3s 146ms/step - loss: 1.7115e-04 - val_loss: 6.2012e-04\n",
      "Epoch 69/100\n",
      "21/21 [==============================] - 3s 145ms/step - loss: 1.6611e-04 - val_loss: 5.7748e-04\n",
      "Epoch 70/100\n",
      "21/21 [==============================] - 3s 147ms/step - loss: 1.7104e-04 - val_loss: 7.0266e-04\n",
      "Epoch 71/100\n",
      "21/21 [==============================] - 3s 148ms/step - loss: 1.6397e-04 - val_loss: 0.0010\n",
      "Epoch 72/100\n",
      "21/21 [==============================] - 3s 144ms/step - loss: 1.8151e-04 - val_loss: 6.2723e-04\n",
      "Epoch 73/100\n",
      "21/21 [==============================] - 3s 145ms/step - loss: 1.4641e-04 - val_loss: 7.8993e-04\n",
      "Epoch 74/100\n",
      "21/21 [==============================] - 3s 148ms/step - loss: 1.5403e-04 - val_loss: 5.9118e-04\n",
      "Epoch 75/100\n",
      "21/21 [==============================] - 3s 144ms/step - loss: 1.5409e-04 - val_loss: 0.0010\n",
      "Epoch 76/100\n",
      "21/21 [==============================] - 3s 142ms/step - loss: 1.4650e-04 - val_loss: 6.5281e-04\n",
      "Epoch 77/100\n"
     ]
    },
    {
     "name": "stdout",
     "output_type": "stream",
     "text": [
      "21/21 [==============================] - 3s 144ms/step - loss: 1.4116e-04 - val_loss: 4.5673e-04\n",
      "Epoch 78/100\n",
      "21/21 [==============================] - 3s 149ms/step - loss: 1.4582e-04 - val_loss: 4.8216e-04\n",
      "Epoch 79/100\n",
      "21/21 [==============================] - 3s 148ms/step - loss: 1.4333e-04 - val_loss: 7.3082e-04\n",
      "Epoch 80/100\n",
      "21/21 [==============================] - 3s 150ms/step - loss: 1.4160e-04 - val_loss: 5.0310e-04\n",
      "Epoch 81/100\n",
      "21/21 [==============================] - 3s 146ms/step - loss: 1.5276e-04 - val_loss: 8.8324e-04\n",
      "Epoch 82/100\n",
      "21/21 [==============================] - 3s 157ms/step - loss: 1.7986e-04 - val_loss: 0.0017\n",
      "Epoch 83/100\n",
      "21/21 [==============================] - 3s 155ms/step - loss: 1.8327e-04 - val_loss: 6.5264e-04\n",
      "Epoch 84/100\n",
      "21/21 [==============================] - 3s 144ms/step - loss: 1.5875e-04 - val_loss: 8.0876e-04\n",
      "Epoch 85/100\n",
      "21/21 [==============================] - 3s 143ms/step - loss: 1.3987e-04 - val_loss: 6.4066e-04\n",
      "Epoch 86/100\n",
      "21/21 [==============================] - 3s 145ms/step - loss: 1.4287e-04 - val_loss: 4.9292e-04\n",
      "Epoch 87/100\n",
      "21/21 [==============================] - 3s 148ms/step - loss: 1.3320e-04 - val_loss: 6.0537e-04\n",
      "Epoch 88/100\n",
      "21/21 [==============================] - 3s 146ms/step - loss: 1.4593e-04 - val_loss: 0.0012\n",
      "Epoch 89/100\n",
      "21/21 [==============================] - 3s 146ms/step - loss: 1.4102e-04 - val_loss: 7.3577e-04\n",
      "Epoch 90/100\n",
      "21/21 [==============================] - 3s 150ms/step - loss: 1.3429e-04 - val_loss: 7.6799e-04\n",
      "Epoch 91/100\n",
      "21/21 [==============================] - 3s 149ms/step - loss: 1.4610e-04 - val_loss: 5.6214e-04\n",
      "Epoch 92/100\n",
      "21/21 [==============================] - 3s 155ms/step - loss: 1.4016e-04 - val_loss: 0.0013\n",
      "Epoch 93/100\n",
      "21/21 [==============================] - 3s 151ms/step - loss: 1.4002e-04 - val_loss: 7.9912e-04\n",
      "Epoch 94/100\n",
      "21/21 [==============================] - 3s 143ms/step - loss: 1.3061e-04 - val_loss: 7.3757e-04\n",
      "Epoch 95/100\n",
      "21/21 [==============================] - 3s 149ms/step - loss: 1.3004e-04 - val_loss: 6.5118e-04\n",
      "Epoch 96/100\n",
      "21/21 [==============================] - 3s 145ms/step - loss: 1.4690e-04 - val_loss: 6.0567e-04\n",
      "Epoch 97/100\n",
      "21/21 [==============================] - 3s 146ms/step - loss: 1.3491e-04 - val_loss: 8.5026e-04\n",
      "Epoch 98/100\n",
      "21/21 [==============================] - 3s 149ms/step - loss: 1.4902e-04 - val_loss: 8.4093e-04\n",
      "Epoch 99/100\n",
      "21/21 [==============================] - 4s 179ms/step - loss: 1.3435e-04 - val_loss: 0.0018\n",
      "Epoch 100/100\n",
      "21/21 [==============================] - 4s 170ms/step - loss: 1.4412e-04 - val_loss: 5.9025e-04\n"
     ]
    },
    {
     "data": {
      "text/plain": [
       "<keras.callbacks.History at 0x17727e83220>"
      ]
     },
     "execution_count": 41,
     "metadata": {},
     "output_type": "execute_result"
    }
   ],
   "source": [
    "model.fit(X_train, y_train, validation_data=(X_test, y_test), epochs=100, batch_size=64, verbose=1)"
   ]
  },
  {
   "cell_type": "markdown",
   "id": "994a5737",
   "metadata": {},
   "source": [
    "### 8: Evaluation of constructed LSTM Model"
   ]
  },
  {
   "cell_type": "markdown",
   "id": "ed9a9a90",
   "metadata": {},
   "source": [
    "#### Visualizing Loss Function..."
   ]
  },
  {
   "cell_type": "code",
   "execution_count": 42,
   "id": "b199bee5",
   "metadata": {},
   "outputs": [
    {
     "data": {
      "text/plain": [
       "Text(0.5, 1.0, 'Variations of Loss value with No. of Iterations')"
      ]
     },
     "execution_count": 42,
     "metadata": {},
     "output_type": "execute_result"
    },
    {
     "data": {
      "image/png": "[encoded data removed]",
      "text/plain": [
       "<Figure size 432x288 with 1 Axes>"
      ]
     },
     "metadata": {
      "needs_background": "light"
     },
     "output_type": "display_data"
    }
   ],
   "source": [
    "# Ploting Loss of our trained model\n",
    "\n",
    "loss = model.history.history['loss']\n",
    "plt.plot(loss)\n",
    "plt.xlabel(\"No. of Iterations...\" , fontsize=14)\n",
    "plt.ylabel(\"Loss Value...\" , fontsize=14)\n",
    "plt.title(\"Variations of Loss value with No. of Iterations\", color=\"b\", fontsize=18, fontweight=\"bold\")"
   ]
  },
  {
   "cell_type": "code",
   "execution_count": null,
   "id": "276b58d2",
   "metadata": {},
   "outputs": [],
   "source": []
  }
 ],
 "metadata": {
  "kernelspec": {
   "display_name": "Python 3 (ipykernel)",
   "language": "python",
   "name": "python3"
  },
  "language_info": {
   "codemirror_mode": {
    "name": "ipython",
    "version": 3
   },
   "file_extension": ".py",
   "mimetype": "text/x-python",
   "name": "python",
   "nbconvert_exporter": "python",
   "pygments_lexer": "ipython3",
   "version": "3.10.6"
  }
 },
 "nbformat": 4,
 "nbformat_minor": 5
}
