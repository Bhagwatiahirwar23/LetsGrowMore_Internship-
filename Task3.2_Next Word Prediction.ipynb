{
 "cells": [
  {
   "cell_type": "markdown",
   "id": "5fa633b7",
   "metadata": {},
   "source": [
    "## Next Word Prediction:"
   ]
  },
  {
   "cell_type": "markdown",
   "id": "1e30f978",
   "metadata": {},
   "source": [
    "### Importing the libraries"
   ]
  },
  {
   "cell_type": "code",
   "execution_count": 11,
   "id": "585c65af",
   "metadata": {},
   "outputs": [],
   "source": [
    "import numpy as np\n",
    "from nltk.tokenize import RegexpTokenizer  #A RegexpTokenizer splits a string into substrings using a regular expression\n",
    "from keras.models import Sequential, load_model   \n",
    "from keras.layers import LSTM\n",
    "from keras.layers.core import Dense, Activation\n",
    "from tensorflow.keras.optimizers import RMSprop\n",
    "import matplotlib.pyplot as plt\n",
    "import pickle\n",
    "import heapq"
   ]
  },
  {
   "cell_type": "markdown",
   "id": "cf41d51a",
   "metadata": {},
   "source": [
    "### Loading the dataset"
   ]
  },
  {
   "cell_type": "code",
   "execution_count": 2,
   "id": "2c926bff",
   "metadata": {},
   "outputs": [
    {
     "name": "stdout",
     "output_type": "stream",
     "text": [
      "corpus length: 581888\n"
     ]
    }
   ],
   "source": [
    "text = open(\"C:\\\\Users\\\\HP\\\\Desktop\\\\Internships\\\\Letsgrow more\\\\Tasks\\\\Tasks3\\\\1661-0.txt\" , encoding = 'utf-8').read().lower()\n",
    "print('corpus length:', len(text))"
   ]
  },
  {
   "cell_type": "markdown",
   "id": "a8b19747",
   "metadata": {},
   "source": [
    "### Splitting the entire dataset into each word in order without the presence of special characters"
   ]
  },
  {
   "cell_type": "code",
   "execution_count": 3,
   "id": "28ff6483",
   "metadata": {},
   "outputs": [],
   "source": [
    "tokenizer = RegexpTokenizer(r'\\w+')\n",
    "words = tokenizer.tokenize(text)"
   ]
  },
  {
   "cell_type": "markdown",
   "id": "f32eaee2",
   "metadata": {},
   "source": [
    "### Dictionary(<key: value>) with each word form the unique_words list as key and its corresponding position as value"
   ]
  },
  {
   "cell_type": "code",
   "execution_count": 4,
   "id": "ad337a68",
   "metadata": {},
   "outputs": [],
   "source": [
    "unique_words = np.unique(words)\n",
    "unique_word_index = dict((c, i) for i, c in enumerate(unique_words))"
   ]
  },
  {
   "cell_type": "markdown",
   "id": "078a9d25",
   "metadata": {},
   "source": [
    "### Feature engineering"
   ]
  },
  {
   "cell_type": "code",
   "execution_count": 5,
   "id": "88a968b0",
   "metadata": {},
   "outputs": [
    {
     "name": "stdout",
     "output_type": "stream",
     "text": [
      "['project', 'gutenberg', 's', 'the', 'adventures']\n",
      "of\n"
     ]
    }
   ],
   "source": [
    "WORD_LENGTH = 5\n",
    "prev_words = []\n",
    "next_words = []\n",
    "for i in range(len(words) - WORD_LENGTH):\n",
    "    prev_words.append(words[i:i + WORD_LENGTH])\n",
    "    next_words.append(words[i + WORD_LENGTH])\n",
    "print(prev_words[0])\n",
    "print(next_words[0])\n",
    "     "
   ]
  },
  {
   "cell_type": "markdown",
   "id": "767508b1",
   "metadata": {},
   "source": [
    "### One-Hot encoding"
   ]
  },
  {
   "cell_type": "code",
   "execution_count": 6,
   "id": "56bea73d",
   "metadata": {},
   "outputs": [],
   "source": [
    "\n",
    "X = np.zeros((len(prev_words), WORD_LENGTH, len(unique_words)), dtype=bool)\n",
    "Y = np.zeros((len(next_words), len(unique_words)), dtype=bool)\n",
    "for i, each_words in enumerate(prev_words):\n",
    "    for j, each_word in enumerate(each_words):\n",
    "        X[i, j, unique_word_index[each_word]] = 1\n",
    "    Y[i, unique_word_index[next_words[i]]] = 1\n",
    "     "
   ]
  },
  {
   "cell_type": "code",
   "execution_count": 7,
   "id": "babf519f",
   "metadata": {},
   "outputs": [
    {
     "name": "stdout",
     "output_type": "stream",
     "text": [
      "[False False False ... False False False]\n"
     ]
    }
   ],
   "source": [
    "print(X[0][0])"
   ]
  },
  {
   "cell_type": "markdown",
   "id": "c54b4bc3",
   "metadata": {},
   "source": [
    "### Building the model"
   ]
  },
  {
   "cell_type": "code",
   "execution_count": 8,
   "id": "b2cf6fa5",
   "metadata": {},
   "outputs": [],
   "source": [
    "model = Sequential()\n",
    "model.add(LSTM(128, input_shape=(WORD_LENGTH, len(unique_words))))\n",
    "model.add(Dense(len(unique_words)))\n",
    "model.add(Activation('softmax'))"
   ]
  },
  {
   "cell_type": "markdown",
   "id": "36d672d8",
   "metadata": {},
   "source": [
    "### Training"
   ]
  },
  {
   "cell_type": "code",
   "execution_count": 9,
   "id": "7ad8d16a",
   "metadata": {},
   "outputs": [
    {
     "name": "stderr",
     "output_type": "stream",
     "text": [
      "WARNING:absl:`lr` is deprecated, please use `learning_rate` instead, or use the legacy optimizer, e.g.,tf.keras.optimizers.legacy.RMSprop.\n"
     ]
    },
    {
     "name": "stdout",
     "output_type": "stream",
     "text": [
      "Epoch 1/10\n",
      "811/811 [==============================] - 117s 142ms/step - loss: 6.6941 - accuracy: 0.0529 - val_loss: 7.2759 - val_accuracy: 0.0538\n",
      "Epoch 2/10\n",
      "811/811 [==============================] - 117s 145ms/step - loss: 6.4829 - accuracy: 0.0531 - val_loss: 7.2153 - val_accuracy: 0.0538\n",
      "Epoch 3/10\n",
      "811/811 [==============================] - 119s 147ms/step - loss: 6.4381 - accuracy: 0.0540 - val_loss: 7.1650 - val_accuracy: 0.0560\n",
      "Epoch 4/10\n",
      "811/811 [==============================] - 119s 147ms/step - loss: 6.3607 - accuracy: 0.0636 - val_loss: 7.1365 - val_accuracy: 0.0654\n",
      "Epoch 5/10\n",
      "811/811 [==============================] - 114s 140ms/step - loss: 6.2652 - accuracy: 0.0741 - val_loss: 7.1139 - val_accuracy: 0.0762\n",
      "Epoch 6/10\n",
      "811/811 [==============================] - 280s 346ms/step - loss: 6.1757 - accuracy: 0.0844 - val_loss: 7.0110 - val_accuracy: 0.0780\n",
      "Epoch 7/10\n",
      "811/811 [==============================] - 112s 138ms/step - loss: 6.1048 - accuracy: 0.0906 - val_loss: 6.9638 - val_accuracy: 0.0813\n",
      "Epoch 8/10\n",
      "811/811 [==============================] - 116s 143ms/step - loss: 6.0471 - accuracy: 0.0960 - val_loss: 6.9803 - val_accuracy: 0.0760\n",
      "Epoch 9/10\n",
      "811/811 [==============================] - 116s 143ms/step - loss: 5.9982 - accuracy: 0.1000 - val_loss: 6.9420 - val_accuracy: 0.0822\n",
      "Epoch 10/10\n",
      "811/811 [==============================] - 123s 152ms/step - loss: 5.9512 - accuracy: 0.1053 - val_loss: 6.8926 - val_accuracy: 0.0831\n"
     ]
    }
   ],
   "source": [
    "optimizer = RMSprop(lr=0.01)\n",
    "model.compile(loss='categorical_crossentropy', optimizer=optimizer, metrics=['accuracy'])\n",
    "history = model.fit(X, Y, validation_split=0.05, batch_size=128, epochs=10, shuffle=True).history"
   ]
  },
  {
   "cell_type": "markdown",
   "id": "f6e3e552",
   "metadata": {},
   "source": [
    "### Saving the model and loading it back"
   ]
  },
  {
   "cell_type": "code",
   "execution_count": 12,
   "id": "b7c48b71",
   "metadata": {},
   "outputs": [],
   "source": [
    "model.save('keras_next_word_model.h5')\n",
    "pickle.dump(history, open(\"history.p\", \"wb\"))\n",
    "model = load_model('keras_next_word_model.h5')\n",
    "history = pickle.load(open(\"history.p\", \"rb\"))\n"
   ]
  },
  {
   "cell_type": "code",
   "execution_count": 13,
   "id": "8da73a29",
   "metadata": {},
   "outputs": [
    {
     "data": {
      "text/plain": [
       "{'loss': [6.694095611572266,\n",
       "  6.4828691482543945,\n",
       "  6.438144683837891,\n",
       "  6.360673427581787,\n",
       "  6.265164852142334,\n",
       "  6.175703525543213,\n",
       "  6.104757308959961,\n",
       "  6.047114372253418,\n",
       "  5.998191833496094,\n",
       "  5.9511823654174805],\n",
       " 'accuracy': [0.052901435643434525,\n",
       "  0.053142376244068146,\n",
       "  0.053980860859155655,\n",
       "  0.0635896623134613,\n",
       "  0.07406586408615112,\n",
       "  0.0844264104962349,\n",
       "  0.0906331017613411,\n",
       "  0.09603986144065857,\n",
       "  0.0999913290143013,\n",
       "  0.10533062368631363],\n",
       " 'val_loss': [7.275886058807373,\n",
       "  7.215258598327637,\n",
       "  7.164956569671631,\n",
       "  7.1364641189575195,\n",
       "  7.113871097564697,\n",
       "  7.010951519012451,\n",
       "  6.963821887969971,\n",
       "  6.980275630950928,\n",
       "  6.942049980163574,\n",
       "  6.8926286697387695],\n",
       " 'val_accuracy': [0.05382643640041351,\n",
       "  0.05382643640041351,\n",
       "  0.056023433804512024,\n",
       "  0.0653606727719307,\n",
       "  0.07616257667541504,\n",
       "  0.07799340784549713,\n",
       "  0.0812889039516449,\n",
       "  0.07597949355840683,\n",
       "  0.08220431953668594,\n",
       "  0.08311973512172699]}"
      ]
     },
     "execution_count": 13,
     "metadata": {},
     "output_type": "execute_result"
    }
   ],
   "source": [
    "history"
   ]
  },
  {
   "cell_type": "markdown",
   "id": "a3c78e3e",
   "metadata": {},
   "source": [
    "### Evaluation"
   ]
  },
  {
   "cell_type": "code",
   "execution_count": 14,
   "id": "0935d93d",
   "metadata": {},
   "outputs": [
    {
     "data": {
      "text/plain": [
       "<matplotlib.legend.Legend at 0x2183bbdf5e0>"
      ]
     },
     "execution_count": 14,
     "metadata": {},
     "output_type": "execute_result"
    },
    {
     "data": {
      "image/png": "[encoded data removed]",
      "text/plain": [
       "<Figure size 432x288 with 1 Axes>"
      ]
     },
     "metadata": {
      "needs_background": "light"
     },
     "output_type": "display_data"
    }
   ],
   "source": [
    "plt.plot(history['accuracy'])\n",
    "plt.plot(history['val_accuracy'])\n",
    "plt.title('model accuracy')\n",
    "plt.ylabel('accuracy')\n",
    "plt.xlabel('epoch')\n",
    "plt.legend(['train', 'test'], loc='upper left')"
   ]
  },
  {
   "cell_type": "code",
   "execution_count": 15,
   "id": "fdd3752f",
   "metadata": {},
   "outputs": [
    {
     "data": {
      "text/plain": [
       "<matplotlib.legend.Legend at 0x2183bc629e0>"
      ]
     },
     "execution_count": 15,
     "metadata": {},
     "output_type": "execute_result"
    },
    {
     "data": {
      "image/png": "[encoded data removed]",
      "text/plain": [
       "<Figure size 432x288 with 1 Axes>"
      ]
     },
     "metadata": {
      "needs_background": "light"
     },
     "output_type": "display_data"
    }
   ],
   "source": [
    "plt.plot(history['loss'])\n",
    "plt.plot(history['val_loss'])\n",
    "plt.title('model loss')\n",
    "plt.ylabel('loss')\n",
    "plt.xlabel('epoch')\n",
    "plt.legend(['train', 'test'], loc='upper left')"
   ]
  },
  {
   "cell_type": "markdown",
   "id": "8a0dfaf7",
   "metadata": {},
   "source": [
    "### Prediction"
   ]
  },
  {
   "cell_type": "code",
   "execution_count": 16,
   "id": "546401ec",
   "metadata": {},
   "outputs": [
    {
     "name": "stdout",
     "output_type": "stream",
     "text": [
      "it\n",
      "is\n",
      "not\n",
      "a\n",
      "lack\n"
     ]
    },
    {
     "data": {
      "text/plain": [
       "array([[[0., 0., 0., ..., 0., 0., 0.],\n",
       "        [0., 0., 0., ..., 0., 0., 0.],\n",
       "        [0., 0., 0., ..., 0., 0., 0.],\n",
       "        [0., 0., 0., ..., 0., 0., 0.],\n",
       "        [0., 0., 0., ..., 0., 0., 0.]]])"
      ]
     },
     "execution_count": 16,
     "metadata": {},
     "output_type": "execute_result"
    }
   ],
   "source": [
    "def prepare_input(text):\n",
    "    x = np.zeros((1, WORD_LENGTH, len(unique_words)))\n",
    "    for t, word in enumerate(text.split()):\n",
    "        print(word)\n",
    "        x[0, t, unique_word_index[word]] = 1\n",
    "    return x\n",
    "prepare_input(\"It is not a lack\".lower())"
   ]
  },
  {
   "cell_type": "code",
   "execution_count": 17,
   "id": "6193114e",
   "metadata": {},
   "outputs": [],
   "source": [
    "def sample(preds, top_n=3):\n",
    "    preds = np.asarray(preds).astype('float64')\n",
    "    preds = np.log(preds)\n",
    "    exp_preds = np.exp(preds)\n",
    "    preds = exp_preds / np.sum(exp_preds)\n",
    "\n",
    "    return heapq.nlargest(top_n, range(len(preds)), preds.take)"
   ]
  },
  {
   "cell_type": "code",
   "execution_count": 18,
   "id": "ffffc9e9",
   "metadata": {},
   "outputs": [],
   "source": [
    "def predict_completions(text, n=3):\n",
    "    if text == \"\":\n",
    "        return(\"0\")\n",
    "    x = prepare_input(text)\n",
    "    preds = model.predict(x, verbose=0)[0]\n",
    "    next_indices = sample(preds, n)\n",
    "    return [unique_words[idx] for idx in next_indices]\n",
    "     "
   ]
  },
  {
   "cell_type": "code",
   "execution_count": 19,
   "id": "36931542",
   "metadata": {},
   "outputs": [
    {
     "name": "stdout",
     "output_type": "stream",
     "text": [
      "correct sentence:  There is nothing more deceptive than an obvious fact\n",
      "Sequence:  there is nothing more deceptive\n",
      "there\n",
      "is\n",
      "nothing\n",
      "more\n",
      "deceptive\n",
      "next possible words:  ['to', 'i', 'it', 'of', 'and']\n"
     ]
    }
   ],
   "source": [
    "q =  \"There is nothing more deceptive than an obvious fact\"\n",
    "print(\"correct sentence: \",q)\n",
    "seq = \" \".join(tokenizer.tokenize(q.lower())[0:5])\n",
    "print(\"Sequence: \",seq)\n",
    "print(\"next possible words: \", predict_completions(seq, 5))\n"
   ]
  },
  {
   "cell_type": "code",
   "execution_count": null,
   "id": "891b3fa1",
   "metadata": {},
   "outputs": [],
   "source": []
  }
 ],
 "metadata": {
  "kernelspec": {
   "display_name": "Python 3 (ipykernel)",
   "language": "python",
   "name": "python3"
  },
  "language_info": {
   "codemirror_mode": {
    "name": "ipython",
    "version": 3
   },
   "file_extension": ".py",
   "mimetype": "text/x-python",
   "name": "python",
   "nbconvert_exporter": "python",
   "pygments_lexer": "ipython3",
   "version": "3.10.6"
  }
 },
 "nbformat": 4,
 "nbformat_minor": 5
}
